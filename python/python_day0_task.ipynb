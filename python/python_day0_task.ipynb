{
 "cells": [
  {
   "cell_type": "code",
   "execution_count": null,
   "metadata": {
    "id": "B9nBndLDXfBu"
   },
   "outputs": [],
   "source": [
    "# 001\n",
    "print(\"Hellow World\")\n",
    "\n",
    "# 002\n",
    "print(2 + 2 * 3) # = 8\n",
    "\n",
    "# 003\n",
    "print(1234 * 17)\n",
    "\n",
    "# 004\n",
    "print(87720 / 34)\n",
    "\n",
    "# 005\n",
    "string = \"720\"\n",
    "\n",
    "integer = int(string)\n",
    "\n",
    "print(type(integer))\n",
    "print(integer)\n",
    "\n",
    "# 006\n",
    "integer = 720\n",
    "\n",
    "string = str(integer)\n",
    "\n",
    "print(type(string))\n",
    "print(string)"
   ]
  }
 ],
 "metadata": {
  "colab": {
   "authorship_tag": "ABX9TyMB0iLY6umubQnQRUhRlT6n",
   "provenance": []
  },
  "kernelspec": {
   "display_name": "Python 3 (ipykernel)",
   "language": "python",
   "name": "python3"
  },
  "language_info": {
   "codemirror_mode": {
    "name": "ipython",
    "version": 3
   },
   "file_extension": ".py",
   "mimetype": "text/x-python",
   "name": "python",
   "nbconvert_exporter": "python",
   "pygments_lexer": "ipython3",
   "version": "3.11.7"
  }
 },
 "nbformat": 4,
 "nbformat_minor": 4
}
