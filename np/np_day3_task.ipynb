{
 "cells": [
  {
   "cell_type": "code",
   "execution_count": 3,
   "metadata": {},
   "outputs": [
    {
     "data": {
      "text/plain": [
       "array([[ 1,  2,  3,  4,  5],\n",
       "       [10,  9,  8,  7,  6],\n",
       "       [11, 12, 13, 14, 15],\n",
       "       [20, 19, 18, 17, 16],\n",
       "       [21, 22, 23, 24, 25]])"
      ]
     },
     "execution_count": 3,
     "metadata": {},
     "output_type": "execute_result"
    }
   ],
   "source": [
    "import numpy as np\n",
    "\n",
    "# 1. 지금까지 공부한 명령어를 사용하여 다음과 같은 배열을 다양한 방법으로 만드시오.\n",
    "# - tile사용, tile 미사용,...\n",
    "# array([[   0.,    0.,    0.,    1.,    1.],\n",
    "#        [   0.,    0.,    0.,    1.,    1.],\n",
    "#        [   0.,    0.,    0.,    1.,    1.],\n",
    "#        [  10.,   20.,   30.,   40.,   50.],\n",
    "#        [  60.,   70.,   80.,   90.,  100.],\n",
    "#        [ 110.,  120.,  130.,  140.,  150.],\n",
    "#        [   0.,    0.,    0.,    1.,    1.],\n",
    "#        [   0.,    0.,    0.,    1.,    1.],\n",
    "#        [   0.,    0.,    0.,    1.,    1.],\n",
    "#        [  10.,   20.,   30.,   40.,   50.],\n",
    "#        [  60.,   70.,   80.,   90.,  100.],\n",
    "#        [ 110.,  120.,  130.,  140.,  150.]])\n",
    "\n",
    "arr1 = np.hstack([np.zeros((12, 3)), np.ones((12, 2))])\n",
    "\n",
    "arr2 = np.arange(10, 151, 10).reshape(3, 5)\n",
    "arr1[3:6, :], arr1[9:12, :] = arr2, arr2\n",
    "arr1\n",
    "\n",
    "\n",
    "# 2.  아래와 같은 구조의 배열을 생성하시오\n",
    "# 1 2 3 4 5\n",
    "# 10 9 8 7 6\n",
    "# 11 12 13 14 15\n",
    "# 20 19 18 17 16\n",
    "# 21 22 23 24 25\n",
    "\n",
    "arr = np.arange(1, 26).reshape(5, 5)\n",
    "arr2 = arr[1::2]\n",
    "arr[1::2] = np.flip(arr2, axis=1) # 두번째 축(열)을 뒤집는다.\n",
    "arr"
   ]
  },
  {
   "cell_type": "code",
   "execution_count": null,
   "metadata": {},
   "outputs": [],
   "source": []
  }
 ],
 "metadata": {
  "kernelspec": {
   "display_name": "Python 3",
   "language": "python",
   "name": "python3"
  },
  "language_info": {
   "codemirror_mode": {
    "name": "ipython",
    "version": 3
   },
   "file_extension": ".py",
   "mimetype": "text/x-python",
   "name": "python",
   "nbconvert_exporter": "python",
   "pygments_lexer": "ipython3",
   "version": "3.12.2"
  }
 },
 "nbformat": 4,
 "nbformat_minor": 2
}
