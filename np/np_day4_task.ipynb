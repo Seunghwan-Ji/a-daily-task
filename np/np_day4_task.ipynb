{
 "cells": [
  {
   "cell_type": "code",
   "execution_count": 18,
   "metadata": {},
   "outputs": [
    {
     "data": {
      "text/plain": [
       "array([1, 2, 3, 4, 5])"
      ]
     },
     "execution_count": 18,
     "metadata": {},
     "output_type": "execute_result"
    }
   ],
   "source": [
    "# 1. 실수로 이루어진 5 x 6 형태의 데이터 행렬을 만들고 이 데이터에 대해 다음과 같은 값을 구한다.\n",
    "import numpy as np\n",
    "\n",
    "arr = np.arange(1, 31).reshape(6, 5)\n",
    "\n",
    "# 전체의 최댓값\n",
    "arr.max()\n",
    "\n",
    "# 각 행의 합\n",
    "np.sum(arr, axis=1).reshape(-1, 1) # 열축의 합을, 행 수는 알아서, 1열로 보기\n",
    "\n",
    "# 각 행의 최댓값\n",
    "np.max(arr, axis=1).reshape(-1, 1) # 열축의 최댓값, 1열로\n",
    "\n",
    "# 각 열의 평균\n",
    "np.mean(arr, axis=0) # 행축의 평균\n",
    "\n",
    "# 각 열의 최솟값\n",
    "np.min(arr, axis=0) # 행축의 최솟값\n",
    "\n",
    "\n",
    "# 2. 다음 배열은 첫번째 행(row)에 학번, 두번째 행에 영어 성적, 세번째 행에 수학 성적을 적은 배열이다. 영어 성적을 기준으로 각 열(column)을 재정렬하라.\n",
    "\n",
    "arr = np.array([[  1,    2,    3,    4],\n",
    "                [ 46,   99,  100,   71],\n",
    "                [ 81,   59,   90,  100]])\n",
    "\n",
    "# argsort: 정렬 전 각 인덱스 배열\n",
    "arr[:, np.argsort(arr[1, :])] # 인덱스 배열로 인덱싱"
   ]
  },
  {
   "cell_type": "code",
   "execution_count": null,
   "metadata": {},
   "outputs": [],
   "source": []
  }
 ],
 "metadata": {
  "kernelspec": {
   "display_name": "Python 3",
   "language": "python",
   "name": "python3"
  },
  "language_info": {
   "codemirror_mode": {
    "name": "ipython",
    "version": 3
   },
   "file_extension": ".py",
   "mimetype": "text/x-python",
   "name": "python",
   "nbconvert_exporter": "python",
   "pygments_lexer": "ipython3",
   "version": "3.12.2"
  }
 },
 "nbformat": 4,
 "nbformat_minor": 2
}
