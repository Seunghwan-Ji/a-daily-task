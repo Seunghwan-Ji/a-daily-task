{
 "cells": [
  {
   "cell_type": "code",
   "execution_count": 31,
   "id": "9b9acd9f-c1e1-47b8-884a-0789f9066cc7",
   "metadata": {},
   "outputs": [
    {
     "name": "stdout",
     "output_type": "stream",
     "text": [
      "[4]\n"
     ]
    }
   ],
   "source": [
    "# 1. 병사수가 총 10명이고 돌아가며 세번째에 해당되는 병사를 제거하는 경우는 다음과 같다:\n",
    "\n",
    "# N = 10, K = 3\n",
    "\n",
    "# 위의 경우 다음과 같은 순서로 병사들이 제거된다. (괄호는 제거되는 병사를 의미한다)\n",
    "\n",
    "# 1st round: 1 2 (3) 4 5 (6) 7 8 (9) 10\n",
    "# 2nd round:                            1 (2) 4 5 (7) 8 10\n",
    "# 3rd round:                                                (1) 4 5 (8) 10\n",
    "# 4th round:                                                               4 (5) 10\n",
    "# 5th round:                                                                        4 (10)\n",
    "# 위 예에서 끝가지 살아남는 병사는 4, 즉 4번째 병사이다.\n",
    "\n",
    "\n",
    "def survived_soldier(n, k):\n",
    "    n = list(range(1, n+1))\n",
    "    lastIndex = 0\n",
    "    startIndex = 0\n",
    "    round1End = False\n",
    "    while True:\n",
    "        killList = [] # 제거할 숫자 목록\n",
    "        if round1End: # 1라운드가 끝났는지\n",
    "            killList.append(n[startIndex]) # 현재 라운드에서 처음으로 제거할 숫자\n",
    "            startIndex += 1 # 제거한 숫자의 다음 숫자부터 첫번째로 시작\n",
    "        for i, v in enumerate(n[startIndex:]):\n",
    "            if (i+1) % k == 0: # 3의 배수면\n",
    "                lastIndex = startIndex + i # 인덱스 저장\n",
    "                killList.append(v) # 제거리스트에 숫자 추가\n",
    "                try:\n",
    "                    n[startIndex+i+k] # 다음 3번째가 리스트 범위를 벗어나는지 시도\n",
    "                except:\n",
    "                    startIndex = k - ((len(n)-1) - lastIndex) - 1 # 다음 라운드에서 처음으로 제거할 숫자의 자리를 정하고 break\n",
    "                    break\n",
    "            elif startIndex + i == len(n) - 1: # 리스트의 마지막 요소일 때\n",
    "                startIndex = 1\n",
    "                break\n",
    "        for j in killList: # 숫자들 제거\n",
    "            n.remove(j)\n",
    "        if len(n) == 1: # 숫자가 하나만 남으면 break\n",
    "                break\n",
    "        elif not round1End:\n",
    "            round1End = True # 1라운드가 끝나면 True로 변경\n",
    "    return n\n",
    "\n",
    "survived_soldier(10, 3)"
   ]
  },
  {
   "cell_type": "code",
   "execution_count": 3,
   "id": "db98448e-6ff1-4338-9c8c-2387d532572d",
   "metadata": {},
   "outputs": [
    {
     "name": "stdout",
     "output_type": "stream",
     "text": [
      "232792560\n"
     ]
    }
   ],
   "source": [
    "# 2. 1부터 10까지의 어떤 수로도 나누어 떨어지는 가장 작은 수는 2520입니다.\n",
    "# 그렇다면 1부터 20까지의 어떤 수로도 나누어 떨어지는 가장 작은 수는 얼마입니까?\n",
    "\n",
    "findNumber = True\n",
    "n = 1\n",
    "while True:\n",
    "    for i in range(2, 21):\n",
    "        if n % i != 0:\n",
    "            findNumber = False\n",
    "            break\n",
    "    if not findNumber:\n",
    "        findNumber = True\n",
    "        n += 1\n",
    "    else:\n",
    "        print(n)\n",
    "        break"
   ]
  },
  {
   "cell_type": "code",
   "execution_count": null,
   "id": "e30bbb77-84c7-474b-87b0-cdda6d8dd2b4",
   "metadata": {},
   "outputs": [],
   "source": [
    "# 3. 음수가 아닌 수들이 주어졌을 때 그 수들을 이어서 만들 수 있는 가장 큰 수를 구하시오.\n",
    "# 예를 들어 [1,2,3]이 주어졌을 때 만들 수 있는 가장 큰 수는 321이고,\n",
    "# [3, 30, 34, 5, 9] 가 주어지면 만들 수 있는 가장 큰 수는 9534330이다."
   ]
  },
  {
   "cell_type": "code",
   "execution_count": 5,
   "id": "a659f029-b133-4e7b-994d-b944b025a634",
   "metadata": {},
   "outputs": [
    {
     "name": "stdout",
     "output_type": "stream",
     "text": [
      "953433303000\n"
     ]
    }
   ],
   "source": [
    "# 앞자리를 본다\n",
    "# 제일 큰걸 리스트에서 제거하고 맨 앞에 배치\n",
    "# 앞자리를 본다\n",
    "# 제일 큰걸 리스트에서 제거하고 두번째 자리에 배치\n",
    "# 앞자리를 본다\n",
    "# 앞자리가 모두 같다면 같은것들을 새로운 리스트에 담는다.\n",
    "# 새로운 리스트의 숫자들의 두번째 자리수를 본다.\n",
    "# 제일 큰걸 세번째 자리에 배치\n",
    "# .\n",
    "# .\n",
    "# .\n",
    "\n",
    "# lst = [30]\n",
    "# compare_number(lst, 0)\n",
    "\n",
    "def compare_number(numLst, place):\n",
    "    dominateNum = -1\n",
    "    result = -1\n",
    "    exceptNum = -1\n",
    "    repeatCount = 0\n",
    "    for i, v in enumerate(numLst):\n",
    "        try:\n",
    "            tryNum = int(str(v)[place]) # place번째 자리에 값이 있는지\n",
    "        except:\n",
    "            exceptNum = v # 해당 자리에 값이 없는 숫자는 이 변수에 저장합니다.\n",
    "        else:\n",
    "            if tryNum > dominateNum: # 각 수마다 같은 자리의 값을 비교해서 가장 큰 값 찾기\n",
    "                dominateNum = tryNum\n",
    "                result = v\n",
    "            elif tryNum == dominateNum: # 자리의 값이 같은 수가 연속으로 나오면 횟수 카운트\n",
    "                repeatCount += 1\n",
    "                if v > result:\n",
    "                    result = compare_number([v,result], place+1)\n",
    "            else:\n",
    "                repeatCount = 0 # 한 번이라도 연속이 끊기면 0으로 초기화\n",
    "    if repeatCount+1 == len(numLst) and len(numLst) != 1: # 리스트의 숫자가 한 개 이상이고, 모두 다 연속으로 같은 값인지\n",
    "        result = compare_number(numLst, place+1) # 재귀호출하여 모든 수 들의 다음 자릿수를 비교합니다.\n",
    "    elif dominateNum == 0 and result != 0:\n",
    "        if exceptNum: # 예를 들어 3, 30 일 경우 두번째 자리를 비교했을때 3은 exceptNum에 저장되었을 것이므로\n",
    "            result = exceptNum # 끝자리가 0인 수 대신 exceptNum을 리턴합니다.\n",
    "    elif result == -1: # 예를 들어 30, 30일 경우 두 수 모두 세번째 자리 비교까지 갈 것이고, exceptNum에 저장될 것입니다.\n",
    "        result = exceptNum # 그러므로 exceptNum 리턴\n",
    "    return result\n",
    "\n",
    "lst = [3, 3, 30, 30, 34, 5, 9, 0, 0]\n",
    "result = []\n",
    "while lst: # lst 리스트가 비워질 때까지 반복합니다.\n",
    "    betterNum = compare_number(lst, 0) # 함수에 0을 전달하면 각 숫자의 앞자리 부터 비교합니다.\n",
    "    result.append(str(betterNum))\n",
    "    lst.remove(betterNum)\n",
    "print(\"\".join(result))"
   ]
  },
  {
   "cell_type": "code",
   "execution_count": 151,
   "id": "39058ae6-6a51-4a62-a295-da7ed16ba86b",
   "metadata": {},
   "outputs": [
    {
     "name": "stdout",
     "output_type": "stream",
     "text": [
      "953432031233301301303000\n"
     ]
    }
   ],
   "source": [
    "lst = [3, 3, 30, 30, 34, 5, 9, 0, 0, 312, 301, 301, 320]\n",
    "result = []\n",
    "while lst: # lst 리스트가 비워질 때까지 반복합니다.\n",
    "    betterNum = compare_number(lst, 0) # 함수에 0을 전달하면 각 숫자의 앞자리 부터 비교합니다.\n",
    "    result.append(str(betterNum))\n",
    "    lst.remove(betterNum)\n",
    "print(\"\".join(result))"
   ]
  },
  {
   "cell_type": "code",
   "execution_count": 13,
   "id": "9fd37d40-ad58-4f72-805a-ccf5c6f587fb",
   "metadata": {},
   "outputs": [
    {
     "data": {
      "text/plain": [
       "0"
      ]
     },
     "execution_count": 13,
     "metadata": {},
     "output_type": "execute_result"
    }
   ],
   "source": [
    "lst = [0, 0]\n",
    "compare_number(lst, 0)"
   ]
  },
  {
   "cell_type": "code",
   "execution_count": null,
   "id": "90f957b5-f92a-482e-a553-68c4e213cdcf",
   "metadata": {},
   "outputs": [],
   "source": []
  }
 ],
 "metadata": {
  "kernelspec": {
   "display_name": "Python 3 (ipykernel)",
   "language": "python",
   "name": "python3"
  },
  "language_info": {
   "codemirror_mode": {
    "name": "ipython",
    "version": 3
   },
   "file_extension": ".py",
   "mimetype": "text/x-python",
   "name": "python",
   "nbconvert_exporter": "python",
   "pygments_lexer": "ipython3",
   "version": "3.11.7"
  }
 },
 "nbformat": 4,
 "nbformat_minor": 5
}
