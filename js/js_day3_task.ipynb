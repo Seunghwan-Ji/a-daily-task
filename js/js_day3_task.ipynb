{
 "cells": [
  {
   "cell_type": "code",
   "execution_count": null,
   "id": "7ec172a6-3238-4b12-8573-dd6b6a882d37",
   "metadata": {},
   "outputs": [],
   "source": [
    "# [파이썬]\n",
    "\n",
    "# 1. 3개의 숫자를 입력으로 받고 3개의 숫자 중에 중간값을 가지는 숫자를 출력하세요. ex1) 2, 5, 3 => 3 ex2) 4, 6, 4 => 4\n",
    "\n",
    "inputNums = sorted(list(map(int, input(\"숫자들 입력: \").split())))\n",
    "\n",
    "print(inputNums[len(inputNums) // 2])\n",
    "\n",
    "\n",
    "# 2. 숫자 형태의 문자열을 콤마가 포함된 금액 표기식 문자열로 바꾸어주는 프로그램을 작성하시오.\n",
    "\n",
    "# ※ 단, 프로그래밍 언어에서 지원하는 금액변환 라이브러리는 사용하지 말것\n",
    "\n",
    "# 예)\n",
    "\n",
    "# 숫자\t금액\n",
    "# 1000\t1,000\n",
    "# 20000000\t20,000,000\n",
    "# -3245.24\t-3,245.24\n",
    "\n",
    "inputPrice = list(input(\"금액 입력: \"))\n",
    "\n",
    "placeCount = 0\n",
    "\n",
    "for i in range(len(inputPrice)-1, -1, -1): # 역순으로 읽습니다.\n",
    "    try:\n",
    "        int(inputPrice[i]) # 숫자인지\n",
    "    except:\n",
    "        placeCount = 0 # 카운트 초기화\n",
    "    else:\n",
    "        placeCount += 1\n",
    "        if placeCount == 3: # 3번 연속 숫자면\n",
    "            inputPrice.insert(i, \",\")\n",
    "            placeCount = 0 # 카운트 초기화\n",
    "\n",
    "print(\"\".join(inputPrice))"
   ]
  },
  {
   "cell_type": "code",
   "execution_count": null,
   "id": "8300252d-f040-43e0-a0df-306636db0adc",
   "metadata": {},
   "outputs": [],
   "source": []
  }
 ],
 "metadata": {
  "kernelspec": {
   "display_name": "Python 3 (ipykernel)",
   "language": "python",
   "name": "python3"
  },
  "language_info": {
   "codemirror_mode": {
    "name": "ipython",
    "version": 3
   },
   "file_extension": ".py",
   "mimetype": "text/x-python",
   "name": "python",
   "nbconvert_exporter": "python",
   "pygments_lexer": "ipython3",
   "version": "3.11.7"
  }
 },
 "nbformat": 4,
 "nbformat_minor": 5
}
