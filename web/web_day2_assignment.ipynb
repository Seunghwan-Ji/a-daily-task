{
 "cells": [
  {
   "cell_type": "code",
   "execution_count": null,
   "metadata": {
    "colab": {
     "base_uri": "https://localhost:8080/"
    },
    "executionInfo": {
     "elapsed": 2,
     "status": "ok",
     "timestamp": 1710401709440,
     "user": {
      "displayName": "jsh",
      "userId": "10095672014894120275"
     },
     "user_tz": -540
    },
    "id": "EDGRHDk9x5IT",
    "outputId": "cec129d0-8824-4cdc-d5a9-247f7015aa27"
   },
   "outputs": [
    {
     "data": {
      "text/plain": [
       "33165"
      ]
     },
     "execution_count": 16,
     "metadata": {},
     "output_type": "execute_result"
    }
   ],
   "source": [
    "# 1.10미만의 자연수에서 3과 5의 배수를 구하면 3,5,6,9이다. 이들의 총합은 23이다.\n",
    "# 1000미만의 자연수에서 3,5의 배수의 총합을 구하라.\n",
    "\n",
    "sum([i for i in range(1, 1000) if i % 3 == 0 or i % 5 == 0])\n",
    "\n",
    "\n",
    "# 2.어떤 자연수 n이 있을 때, d(n)을 n의 각 자릿수 숫자들과 n 자신을 더한 숫자라고 정의하자.\n",
    "\n",
    "# 예를 들어\n",
    "# d(91) = 9 + 1 + 91 = 101\n",
    "# 이 때, n을 d(n)의 제네레이터(generator)라고 한다.\n",
    "# 위의 예에서 91은 101의 제네레이터이다.\n",
    "# 어떤 숫자들은 하나 이상의 제네레이터를 가지고 있는데,\n",
    "# 101의 제네레이터는 91 뿐 아니라 100도 있다.\n",
    "# 그런데 반대로, 제네레이터가 없는 숫자들도 있으며,\n",
    "# 이런 숫자를 인도의 수학자 Kaprekar가 셀프 넘버(self-number)라 이름 붙였다.\n",
    "# 예를 들어 1,3,5,7,9,20,31 은 셀프 넘버 들이다.\n",
    "\n",
    "# 1 이상이고 5000 보다 작은 모든 셀프 넘버들의 합을 구하라.\n",
    "\n",
    "n = 1\n",
    "allSum = sum(list(range(1, 5001))) # 1 ~ 5,000까지 합 저장\n",
    "genSum = 0 # 제너레이터를 갖는 수 들의 합\n",
    "\n",
    "while True: # 1부터 시작해서 값을 계속 집어 넣습니다.(n)\n",
    "    nSum = sum(list(map(int, list(str(n))))) + n # 숫자 n을 문자열로 변환\n",
    "    # nSum은 제너레이터를 갖고 있으므로          # -> 자릿수를 각각 쪼개서 리스트로 변환 ex) \"12\" -> [\"1\", \"2\"]\n",
    "    # genSum에 더합니다.                         # -> 요소들을 각각 정수로 맵핑 후 리스트로 변환 [1, 2]\n",
    "    genSum += nSum                               # -> 요소들의 합을 n과 더합니다.\n",
    "    if nSum == 5000: # 1 ~ 5000 사이의 셀프넘버를 구할 것이기 때문에\n",
    "        break        # nSum이 5000이 될때까지만 실행합니다.\n",
    "    n += 1 # 다음 숫자 대입\n",
    "print(allSum)\n",
    "print(genSum)\n",
    "print(allSum - genSum) # 전체 합 - 제너레이터를 갖는 수들의 합\n",
    "\n",
    "\n",
    "# 3.1차원의 점들이 주어졌을 때, 그 중 가장 거리가 짧은 것의 쌍을 출력하는 함수를 작성하시오.\n",
    "# (단 점들의 배열은 모두 정렬되어있다고 가정한다.)\n",
    "\n",
    "# 예를들어 S={1, 3, 4, 8, 13, 17, 20} 이 주어졌다면, 결과값은 (3, 4)가 될 것이다.\n",
    "\n",
    "def distance_difference(sLst):\n",
    "    dstDfr = 0 # 두 점 사이의 거리\n",
    "    duo = () # 두 점\n",
    "    for i, v in enumerate(sLst):\n",
    "        for j in range(len(sLst)):\n",
    "            if i != j: # 자신의 점을 제외한 나머지 점들과 거리차이를 계산합니다.\n",
    "                dst = abs(v - sLst[j]) # 절댓값\n",
    "                if not duo or dst < dstDfr: # 코드 최초 실행 or 더 짧은 거리인지\n",
    "                    dstDfr = dst # 거리 변경\n",
    "                    duo = (v, sLst[j]) # 두 점 변경\n",
    "    return duo\n",
    "\n",
    "distance_difference(list({1, 3, 4, 8, 13, 17, 20}))\n",
    "\n",
    "\n",
    "# 4.초보자 프로그래머 홍길동은 사용자가 입력한 양의정수(범위는 int)\n",
    "# 각 자리수를 더해 출력하는 프로그램을 만들고 싶어한다.\n",
    "# ex) 5923의 결과는 5+9+2+3인 19이다 ex) 200의 결과는 2+0+0인 2이다\n",
    "# ex) 6719283의 결과는 6+7+1+9+2+8+3인 36이다.\n",
    "\n",
    "sum(list(map(int, list(input(\"양의 정수 입력: \")))))"
   ]
  },
  {
   "cell_type": "code",
   "execution_count": null,
   "metadata": {
    "colab": {
     "base_uri": "https://localhost:8080/"
    },
    "executionInfo": {
     "elapsed": 286,
     "status": "ok",
     "timestamp": 1710581812395,
     "user": {
      "displayName": "jsh",
      "userId": "10095672014894120275"
     },
     "user_tz": -540
    },
    "id": "cwxkDunATDzA",
    "outputId": "7c376ab1-2155-420d-cddc-9da2e834a80f"
   },
   "outputs": [
    {
     "name": "stdout",
     "output_type": "stream",
     "text": [
      "[(1, 17), (1, 3), (1, 4), (1, 20), (1, 8), (1, 13), (3, 17), (4, 17), (17, 20), (8, 17), (13, 17), (3, 4), (3, 20), (3, 8), (3, 13), (4, 20), (4, 8), (4, 13), (8, 20), (13, 20), (8, 13)]\n",
      "(3, 4) 1\n"
     ]
    },
    {
     "data": {
      "text/plain": [
       "(3, 4)"
      ]
     },
     "execution_count": 20,
     "metadata": {},
     "output_type": "execute_result"
    }
   ],
   "source": [
    "# 3번 문제 실행 시간 단축 버전\n",
    "\n",
    "def distance_difference(sLst):\n",
    "    shortestDst = 0 # 가장 짧은 거리\n",
    "    duo = () # 가장 가까운 두 점\n",
    "    cpltCalcLst = [] # 계산이 완료된 두 점들 목록\n",
    "    for i, v in enumerate(sLst):\n",
    "        for j in range(len(sLst)):\n",
    "            if i != j: # 자신의 점을 제외한 나머지 점들과 거리차이를 계산합니다.\n",
    "                twoPoints = tuple(sorted((v, sLst[j]))) # 두 점 순서를 정렬합니다.\n",
    "                if twoPoints not in cpltCalcLst: # 실행 시간 단축을 위해 이미 계산한 점들이면 생략합니다.\n",
    "                    dst = twoPoints[1] - twoPoints[0] # 두 점 사이의 거리\n",
    "                    cpltCalcLst.append(twoPoints) # 계산이 끝난 두 점 리스트에 추가\n",
    "                    if not duo or dst < shortestDst: # 코드 최초 실행(duo가 비어있는지) or 거리가 더 짧은 거리인지\n",
    "                        shortestDst = dst # 가장 짧은 거리 수정\n",
    "                        duo = (v, sLst[j]) # 가장 가까운 두 점 수정\n",
    "    print(cpltCalcLst)\n",
    "    print(duo, shortestDst)\n",
    "    return duo\n",
    "\n",
    "distance_difference(list({1, 3, 4, 8, 13, 17, 20}))"
   ]
  },
  {
   "cell_type": "code",
   "execution_count": null,
   "metadata": {
    "id": "KXuQpNRsah9G"
   },
   "outputs": [],
   "source": []
  }
 ],
 "metadata": {
  "colab": {
   "authorship_tag": "ABX9TyMjpcaV2MOCA2S9iWct8pMv",
   "provenance": []
  },
  "kernelspec": {
   "display_name": "Python 3 (ipykernel)",
   "language": "python",
   "name": "python3"
  },
  "language_info": {
   "codemirror_mode": {
    "name": "ipython",
    "version": 3
   },
   "file_extension": ".py",
   "mimetype": "text/x-python",
   "name": "python",
   "nbconvert_exporter": "python",
   "pygments_lexer": "ipython3",
   "version": "3.11.7"
  }
 },
 "nbformat": 4,
 "nbformat_minor": 4
}
