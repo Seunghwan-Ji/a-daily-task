{
 "cells": [
  {
   "cell_type": "code",
   "execution_count": null,
   "id": "2ecf7b1c-9cc3-4fdb-84e8-ae88bc5d4582",
   "metadata": {},
   "outputs": [],
   "source": [
    "# 1. A씨는 게시판 프로그램을 작성하고 있다.\n",
    "\n",
    "# A씨는 게시물의 총 건수와 한 페이지에 보여줄 게시물수를 입력으로 주었을 때 총 페이지수를 리턴하는 프로그램이 필요하다고 한다.\n",
    "\n",
    "# 입력 : 총건수(m), 한페이지에 보여줄 게시물수(n) (단 n은 1보다 크거나 같다. n >= 1)\n",
    "# 출력 : 총페이지수\n",
    "\n",
    "# A씨가 필요한 프로그램을 작성하시오.\n",
    "\n",
    "def page_count(m, n):\n",
    "    page = 0\n",
    "    while True:\n",
    "        if 0 < m <= n: # 건수가 한 페이지 안에 다 들어가는지\n",
    "            page += 1\n",
    "        elif m > n: # 건수가 한 페이지를 초과하는지\n",
    "            page += 1\n",
    "            m -= n # 초과 건수를 가지고 다시 올라갑니다.\n",
    "            continue\n",
    "        return page\n",
    "\n",
    "page_count(31, 15) # ex) 31, 15 대입\n",
    "\n",
    "\n",
    "# 2. 시저 암호는, 고대 로마의 황제 줄리어스 시저가 만들어 낸 암호인데, 예를 들어 알파벳 A를 입력했을 때,\n",
    "# 그 알파벳의 n개 뒤에 오는(여기서는 예를 들 때 3으로 지정하였다)알파벳이 출력되는 것이다.\n",
    "# 예를 들어 바꾸려는 단어가 'CAT\"고, n을 5로 지정하였을 때 \"HFY\"가 되는 것이다.\n",
    "\n",
    "# 어떠한 암호를 만들 문장과 n을 입력했을 때 암호를 만들어 출력하는 프로그램을 작성해라.\n",
    "\n",
    "alphabet = [\"A\", \"B\", \"C\", \"D\", \"E\", \"F\", \"G\", \"H\", \"I\", \"J\", \"K\", \"L\", \"M\", \"N\", \"O\", \"P\", \"Q\", \"R\", \"S\", \"T\", \"U\", \"V\", \"W\", \"X\", \"Y\", \"Z\"]\n",
    "result = []\n",
    "def make_pw(word, n):\n",
    "    for a1 in word:\n",
    "        for i, a2 in enumerate(alphabet):\n",
    "            if a1 == a2: # 알파벳이 서로 같으면\n",
    "                try:\n",
    "                    result.append(alphabet[i+n])\n",
    "                except: # 인덱스 범위를 초과 했을때\n",
    "                    result.append(alphabet[(i+n)-len(alphabet)])\n",
    "    return result\n",
    "\n",
    "print(*make_pw(\"XYZ\", 10)) # ex) \"XYZ\", 10 대입\n",
    "\n",
    "\n",
    "# 3.문자열 형식으로 입력 받은 모스코드(dot: . dash:-)를 해독하여 영어 문장으로 출력하는 프로그램을 작성하시오.\n",
    "\n",
    "# 글자와 글자 사이는 공백 하나, 단어와 단어 사이는 공백 두개로 구분한다.\n",
    "\n",
    "# 예를 들어 다음 모스부호는 \"he sleeps early\"로 해석해야 한다.\n",
    "\n",
    "# .... .  ... .-.. . . .--. ...  . .- .-. .-.. -.--\n",
    "\n",
    "morseBuhoRule = {\n",
    "    'A': '.-', 'B': '-...', 'C': '-.-.', 'D': '-..', 'E': '.', 'F': '..-.', 'G': '--.',\n",
    "    'H': '....', 'I': '..', 'J': '.---', 'K': '-.-', 'L': '.-..', 'M': '--', 'N': '-.',\n",
    "    'O': '---', 'P': '.--.', 'Q': '--.-', 'R': '.-.', 'S': '...', 'T': '-', 'U': '..-',\n",
    "    'V': '...-', 'W': '.--', 'X': '-..-', 'Y': '-.--', 'Z': '--..'\n",
    "}\n",
    "\n",
    "morseBuho = \".... .  ... .-.. . . .--. ...  . .- .-. .-.. -.--\"\n",
    "\n",
    "morseBuho = morseBuho.split(\"  \") # 공백 두 개 기준으로 스플릿\n",
    "decode = []\n",
    "\n",
    "for i in morseBuho:\n",
    "    morseSplt = i.split() # 공백 한 개 기준으로 스플릿\n",
    "    for j, m in enumerate(morseSplt):\n",
    "        for k, v in morseBuhoRule.items():\n",
    "            if m == v: # 부호가 규칙표 밸류와 같으면\n",
    "                morseSplt[j] = k # 부호를 규칙표의 키 이름으로 변경\n",
    "    decode.append(\"\".join(morseSplt)) # 다시 이어붙여서 decode 리스트에 추가\n",
    "print(\" \".join(decode)) # 단어들마다 공백 한 칸으로 이어붙입니다."
   ]
  },
  {
   "cell_type": "code",
   "execution_count": 1,
   "id": "6e7f6e90-c015-4e38-b208-b350294738cc",
   "metadata": {},
   "outputs": [
    {
     "data": {
      "text/plain": [
       "89"
      ]
     },
     "execution_count": 1,
     "metadata": {},
     "output_type": "execute_result"
    }
   ],
   "source": [
    "# 2번 다른 풀이\n",
    "ord(\"A\")\n",
    "ord(\"B\")\n",
    "ord(\"Z\")\n",
    "ord(\"Y\")"
   ]
  },
  {
   "cell_type": "code",
   "execution_count": 2,
   "id": "8c97fc87-ca4f-4530-9e49-b04acfbe3fbb",
   "metadata": {},
   "outputs": [
    {
     "name": "stdout",
     "output_type": "stream",
     "text": [
      "HFYD\n"
     ]
    }
   ],
   "source": [
    "code='CATY'\n",
    "n=5\n",
    "res=''\n",
    "for c in code:\n",
    "    if ord(c)+n > 90:\n",
    "        res+=chr(ord(c)+n-26)\n",
    "    else:\n",
    "        res+=chr(ord(c)+n)\n",
    "\n",
    "print(res)"
   ]
  },
  {
   "cell_type": "code",
   "execution_count": 3,
   "id": "364c8842-6337-460c-ae1b-1f77f9f7b3cd",
   "metadata": {},
   "outputs": [
    {
     "name": "stdout",
     "output_type": "stream",
     "text": [
      "HFYD\n"
     ]
    }
   ],
   "source": [
    "code='CATY' #C(67)+8 =75\n",
    "n=5\n",
    "#a.isalpha()\n",
    "ceasar=lambda a:chr(ord(a)+n%26-26) if (ord(a)+n%26)>90 else chr(ord(a)+n%26)\n",
    "print(''.join(ceasar(c) for c in code))"
   ]
  },
  {
   "cell_type": "code",
   "execution_count": 4,
   "id": "832a9f74-4db5-4954-93f7-2790b900f6bb",
   "metadata": {},
   "outputs": [
    {
     "name": "stdout",
     "output_type": "stream",
     "text": [
      "['A', 'B', 'C', 'D', 'E', 'F', 'G', 'H', 'I', 'J', 'K', 'L', 'M', 'N', 'O', 'P', 'Q', 'R', 'S', 'T', 'U', 'V', 'W', 'X', 'Y', 'Z']\n",
      "['A', 'B', 'C', 'D', 'E', 'F', 'G', 'H', 'I', 'J', 'K', 'L', 'M', 'N', 'O', 'P', 'Q', 'R', 'S', 'T', 'U', 'V', 'W', 'X', 'Y', 'Z']\n"
     ]
    }
   ],
   "source": [
    "# A~Z까지 리스트에 담기\n",
    "\n",
    "print([chr(i) for i in range(65, 91)])\n",
    "print([chr(j) for j in range(ord(\"A\"), ord(\"Z\")+1)])"
   ]
  },
  {
   "cell_type": "code",
   "execution_count": null,
   "id": "d0726182-1540-4da6-a0a8-937fd2df7c43",
   "metadata": {},
   "outputs": [],
   "source": []
  }
 ],
 "metadata": {
  "kernelspec": {
   "display_name": "Python 3 (ipykernel)",
   "language": "python",
   "name": "python3"
  },
  "language_info": {
   "codemirror_mode": {
    "name": "ipython",
    "version": 3
   },
   "file_extension": ".py",
   "mimetype": "text/x-python",
   "name": "python",
   "nbconvert_exporter": "python",
   "pygments_lexer": "ipython3",
   "version": "3.11.7"
  }
 },
 "nbformat": 4,
 "nbformat_minor": 5
}
