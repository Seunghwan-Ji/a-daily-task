{
 "cells": [
  {
   "cell_type": "code",
   "execution_count": 38,
   "metadata": {},
   "outputs": [
    {
     "data": {
      "text/plain": [
       "[5, 15, 0]"
      ]
     },
     "execution_count": 38,
     "metadata": {},
     "output_type": "execute_result"
    }
   ],
   "source": [
    "# 1. 사진들을 보며 추억에 젖어 있던 루는 사진별로 추억 점수를 매길려고 합니다. 사진 속에 나오는 인물의 그리움 점수를 모두 합산한 값이 해당 사진의 추억 점수가 됩니다.\n",
    "# 예를 들어 사진 속 인물의 이름이 [\"may\", \"kein\", \"kain\"]이고 각 인물의 그리움 점수가 [5점, 10점, 1점]일 때 해당 사진의 추억 점수는 16(5 + 10 + 1)점이 됩니다.\n",
    "# 다른 사진 속 인물의 이름이 [\"kali\", \"mari\", \"don\", \"tony\"]이고 [\"kali\", \"mari\", \"don\"]의 그리움 점수가 각각 [11점, 1점, 55점]]이고,\n",
    "# \"tony\"는 그리움 점수가 없을 때, 이 사진의 추억 점수는 3명의 그리움 점수를 합한 67(11 + 1 + 55)점입니다.\n",
    "# 그리워하는 사람의 이름을 담은 문자열 배열 name, 각 사람별 그리움 점수를 담은 정수 배열 yearning, 각 사진에 찍힌 인물의 이름을 담은 이차원 문자열 배열 photo가 매개변수로 주어질 때,\n",
    "# 사진들의 추억 점수를 photo에 주어진 순서대로 배열에 담아 return하는 solution 함수를 완성해주세요.\n",
    "\n",
    "# 제한사항\n",
    "# 3 ≤ name의 길이 = yearning의 길이≤ 100\n",
    "# 3 ≤ name의 원소의 길이 ≤ 7\n",
    "# name의 원소들은 알파벳 소문자로만 이루어져 있습니다.\n",
    "# name에는 중복된 값이 들어가지 않습니다.\n",
    "# 1 ≤ yearning[i] ≤ 100\n",
    "# yearning[i]는 i번째 사람의 그리움 점수입니다.\n",
    "# 3 ≤ photo의 길이 ≤ 100\n",
    "# 1 ≤ photo[i]의 길이 ≤ 100\n",
    "# 3 ≤ photo[i]의 원소(문자열)의 길이 ≤ 7\n",
    "# photo[i]의 원소들은 알파벳 소문자로만 이루어져 있습니다.\n",
    "# photo[i]의 원소들은 중복된 값이 들어가지 않습니다.\n",
    "\n",
    "name = [\"may\", \"kein\", \"kain\", \"radi\"] # ex)\n",
    "yearning = [5, 10, 1, 3] # ex)\n",
    "photo = [[\"may\"], [\"kein\", \"deny\", \"may\"], [\"kon\", \"coni\"]] # ex)\n",
    "# [5, 15, 0] # result\n",
    "\n",
    "def memory_score(name, yearning, photo):\n",
    "    result = []\n",
    "    for i in photo:\n",
    "        score = 0 # 추억 점수\n",
    "        for j in i:\n",
    "            if j in name: # j라는 이름이 name에 있는지\n",
    "                score += yearning[name.index(j)] # 문제 조건에 그리운 이름의 대응하는 그리움 점수가 있고\n",
    "        result.append(score)                     # 둘의 인덱스가 같은걸 활용한다.\n",
    "    return result\n",
    "\n",
    "memory_score(name, yearning, photo)"
   ]
  },
  {
   "cell_type": "code",
   "execution_count": 31,
   "metadata": {},
   "outputs": [
    {
     "name": "stdout",
     "output_type": "stream",
     "text": [
      "[4, 6, -1, 2]\n",
      "[5]\n"
     ]
    }
   ],
   "source": [
    "# 2. 휴대폰의 자판은 컴퓨터 키보드 자판과는 다르게 하나의 키에 여러 개의 문자가 할당될 수 있습니다. 키 하나에 여러 문자가 할당된 경우, 동일한 키를 연속해서 빠르게 누르면 할당된 순서대로 문자가 바뀝니다.\n",
    "# 예를 들어, 1번 키에 \"A\", \"B\", \"C\" 순서대로 문자가 할당되어 있다면 1번 키를 한 번 누르면 \"A\", 두 번 누르면 \"B\", 세 번 누르면 \"C\"가 되는 식입니다.\n",
    "# 같은 규칙을 적용해 아무렇게나 만든 휴대폰 자판이 있습니다. 이 휴대폰 자판은 키의 개수가 1개부터 최대 100개까지 있을 수 있으며, 특정 키를 눌렀을 때 입력되는 문자들도 무작위로 배열되어 있습니다. 또, 같은 문자가 자판 전체에 여러 번 할당된 경우도 있고, 키 하나에 같은 문자가 여러 번 할당된 경우도 있습니다. 심지어 아예 할당되지 않은 경우도 있습니다. 따라서 몇몇 문자열은 작성할 수 없을 수도 있습니다.\n",
    "# 이 휴대폰 자판을 이용해 특정 문자열을 작성할 때, 키를 최소 몇 번 눌러야 그 문자열을 작성할 수 있는지 알아보고자 합니다.\n",
    "# 1번 키부터 차례대로 할당된 문자들이 순서대로 담긴 문자열배열 keymap과 입력하려는 문자열들이 담긴 문자열 배열 targets가 주어질 때, 각 문자열을 작성하기 위해 키를 최소 몇 번씩 눌러야 하는지 순서대로 배열에 담아 return 하는 solution 함수를 완성해 주세요.\n",
    "# 단, 목표 문자열을 작성할 수 없을 때는 -1을 저장합니다.\n",
    "\n",
    "# 제한사항\n",
    "# 1 ≤ keymap의 길이 ≤ 100\n",
    "# 1 ≤ keymap의 원소의 길이 ≤ 100\n",
    "# keymap[i]는 i + 1번 키를 눌렀을 때 순서대로 바뀌는 문자를 의미합니다.\n",
    "# 예를 들어 keymap[0] = \"ABACD\" 인 경우 1번 키를 한 번 누르면 A, 두 번 누르면 B, 세 번 누르면 A 가 됩니다.\n",
    "# keymap의 원소의 길이는 서로 다를 수 있습니다.\n",
    "# keymap의 원소는 알파벳 대문자로만 이루어져 있습니다.\n",
    "# 1 ≤ targets의 길이 ≤ 100\n",
    "# 1 ≤ targets의 원소의 길이 ≤ 100\n",
    "# targets의 원소는 알파벳 대문자로만 이루어져 있습니다.\n",
    "\n",
    "def input_count(keymap, targets):\n",
    "    result = []\n",
    "    for i in targets: # 입력할 단어\n",
    "        inputCntSum = 0\n",
    "        for j in i: # 입력할 알파벳\n",
    "            inputCnt = []\n",
    "            for k in keymap: # 버튼키에 적혀있는 알파벳\n",
    "                if k.find(j) != -1: # 버튼키에 입력할 알파벳이 있으면\n",
    "                    inputCnt.append(k.find(j) + 1) # 알파벳을 입력하기 위한 터치 횟수\n",
    "            if inputCnt:\n",
    "                inputCntSum += sorted(inputCnt)[0] # 터치 횟수가 가장 적은 값 채택\n",
    "            else:\n",
    "                inputCntSum = -1 # 터치 횟수가 없다면 입력을 못하는 알파벳이므로 터치 횟수를 -1로 설정\n",
    "                break            # 현재 단어(i)는 빠져나오고 다음 단어에서 알파벳 입력 시도\n",
    "        result.append(inputCntSum) # 완성한 단어의 터치 횟수 추가\n",
    "                    \n",
    "    return result\n",
    "\n",
    "print(input_count([\"AGZ\", \"BSSS\"], [\"ASA\", \"BGZ\", \"TTYS\", \"AB\"])) # 예시를 대입해 봅니다.\n",
    "print(input_count([\"ZAGXZ\", \"BSSS\", \"XYZ\"], [\"ASZ\"]))"
   ]
  },
  {
   "cell_type": "code",
   "execution_count": 37,
   "metadata": {},
   "outputs": [
    {
     "name": "stdout",
     "output_type": "stream",
     "text": [
      "#####\n",
      "may\n",
      "may\n",
      "kein\n",
      "kein\n",
      "kain\n",
      "kain\n",
      "radi\n",
      "radi\n",
      "#####\n",
      "may\n",
      "may\n",
      "kein\n",
      "kein\n",
      "brin\n",
      "deny\n",
      "#####\n",
      "kon\n",
      "kain\n",
      "kain\n",
      "may\n",
      "may\n",
      "coni\n",
      "[19, 15, 6]\n"
     ]
    }
   ],
   "source": [
    "def solution():\n",
    "    name = [\"may\", \"kein\", \"kain\", \"radi\"]\n",
    "    yearning = [5, 10, 1, 3]\n",
    "    photo = [[\"may\", \"kein\", \"kain\", \"radi\"], [\"may\", \"kein\", \"brin\", \"deny\"], [\"kon\", \"kain\", \"may\", \"coni\"]]\n",
    "    score = 0\n",
    "    res = []    # 각각의 사진의 추억 점수\n",
    "\n",
    "    for i in photo:\n",
    "        print(\"#####\")\n",
    "        for n in i:\n",
    "            print(n)\n",
    "            if n in name:\n",
    "                print(n)\n",
    "                # print(name.index(n))\n",
    "                score += yearning[name.index(n)]\n",
    "        res.append(score)       # 사진 한개의 추억점수를 추가하고 0으로 다시 초기화\n",
    "        score = 0\n",
    "\n",
    "    return(res)\n",
    "\n",
    "print(solution())"
   ]
  },
  {
   "cell_type": "code",
   "execution_count": null,
   "metadata": {},
   "outputs": [],
   "source": []
  }
 ],
 "metadata": {
  "kernelspec": {
   "display_name": "Python 3",
   "language": "python",
   "name": "python3"
  },
  "language_info": {
   "codemirror_mode": {
    "name": "ipython",
    "version": 3
   },
   "file_extension": ".py",
   "mimetype": "text/x-python",
   "name": "python",
   "nbconvert_exporter": "python",
   "pygments_lexer": "ipython3",
   "version": "3.12.2"
  }
 },
 "nbformat": 4,
 "nbformat_minor": 2
}
