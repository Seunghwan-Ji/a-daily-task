{
 "cells": [
  {
   "cell_type": "code",
   "execution_count": 11,
   "metadata": {},
   "outputs": [
    {
     "name": "stdout",
     "output_type": "stream",
     "text": [
      "No\n"
     ]
    }
   ],
   "source": [
    "# 7. 코니는 영어 단어가 적힌 카드 뭉치 두 개를 선물로 받았습니다. 코니는 다음과 같은 규칙으로 카드에 적힌 단어들을 사용해 원하는 순서의 단어 배열을 만들 수 있는지 알고 싶습니다.\n",
    "\n",
    "# ​\n",
    "\n",
    "# 원하는 카드 뭉치에서 카드를 순서대로 한 장씩 사용합니다.\n",
    "\n",
    "# 한 번 사용한 카드는 다시 사용할 수 없습니다.\n",
    "\n",
    "# 카드를 사용하지 않고 다음 카드로 넘어갈 수 없습니다.\n",
    "\n",
    "# 기존에 주어진 카드 뭉치의 단어 순서는 바꿀 수 없습니다.\n",
    "\n",
    "# 예를 들어 첫 번째 카드 뭉치에 순서대로 [\"i\", \"drink\", \"water\"], 두 번째 카드 뭉치에 순서대로 [\"want\", \"to\"]가 적혀있을 때 [\"i\", \"want\", \"to\", \"drink\", \"water\"] 순서의 단어 배열을 만들려고 한다면 첫 번째 카드 뭉치에서 \"i\"를 사용한 후 두 번째 카드 뭉치에서 \"want\"와 \"to\"를 사용하고 첫 번째 카드뭉치에 \"drink\"와 \"water\"를 차례대로 사용하면 원하는 순서의 단어 배열을 만들 수 있습니다.\n",
    "\n",
    "# ​\n",
    "\n",
    "# 문자열로 이루어진 배열 cards1, cards2와 원하는 단어 배열 goal이 매개변수로 주어질 때, cards1과 cards2에 적힌 단어들로 goal를 만들 있다면 \"Yes\"를, 만들 수 없다면 \"No\"를 return하는 solution 함수를 완성해주세요.\n",
    "\n",
    "cards1 = [\"i\", \"water\", \"drink\"]\n",
    "cards2 = [\"want\", \"to\"]\n",
    "goal = [\"i\", \"want\", \"to\", \"drink\", \"water\"]\n",
    "\n",
    "def solution(cards1, cards2, goal):\n",
    "    result = \"Yes\"\n",
    "    for word in goal:\n",
    "        if cards1 and word == cards1[0]: # 카드 뭉치1이 비어있지 않고 현재 뽑을 수 있는 카드의 단어가 word인지\n",
    "            cards1.remove(word) # 뽑은 카드 제거\n",
    "        elif cards2 and word == cards2[0]: # 카드 뭉치2가 비어있지 않고 현재 뽑을 수 있는 카드의 단어가 word인지\n",
    "            cards2.remove(word) # 뽑은 카드 제거\n",
    "        else:\n",
    "            result = \"No\" # 두 뭉치 모두 word라는 카드를 뽑을 수 없으면 \"No\"로 바꾸고 중지\n",
    "            break\n",
    "    return result\n",
    "\n",
    "print(solution(cards1, cards2, goal))"
   ]
  },
  {
   "cell_type": "code",
   "execution_count": null,
   "metadata": {},
   "outputs": [],
   "source": []
  }
 ],
 "metadata": {
  "kernelspec": {
   "display_name": "Python 3",
   "language": "python",
   "name": "python3"
  },
  "language_info": {
   "codemirror_mode": {
    "name": "ipython",
    "version": 3
   },
   "file_extension": ".py",
   "mimetype": "text/x-python",
   "name": "python",
   "nbconvert_exporter": "python",
   "pygments_lexer": "ipython3",
   "version": "3.12.2"
  }
 },
 "nbformat": 4,
 "nbformat_minor": 2
}
