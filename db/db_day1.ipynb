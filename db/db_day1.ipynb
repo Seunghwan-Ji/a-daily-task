{
 "cells": [
  {
   "cell_type": "code",
   "execution_count": 3,
   "metadata": {},
   "outputs": [
    {
     "name": "stdout",
     "output_type": "stream",
     "text": [
      "1\n"
     ]
    }
   ],
   "source": [
    "# 1. 친화수란 a와 b라는 서로 다른 두 자연수가 있을 때,\n",
    "# a의 자신을 제외한 약수를 모두 더하면 b가 되고,\n",
    "# b의 자신을 제외한 약수를 모두 더하면 a가 되는 두 수의 쌍을 말한다.\n",
    "# 예로 220, 284을 들면 220의 자신을 제외한 약수는 1, 2, 4, 5, 10, 11, 20, 22, 44, 55, 110이고,\n",
    "# 이를 모두 더하면 284이다. 또한 284의 자신을 제외한 약수는 1, 2, 4, 71, 142이고,\n",
    "# 이를 모두 더하면 220이 되므로 220과 284는 친화수이다.\n",
    "# 자연수 A를 입력받았을 때, A 이하의 친화수의 쌍의 개수를 출력하는 프로그램을 만들어라.\n",
    "\n",
    "ipNum = int(input(\"자연수 입력: \"))\n",
    "sumYaksu = [sum([i for i in range(1, n) if n % i == 0]) for n in range(1, ipNum+1)]\n",
    "result = []\n",
    "\n",
    "for i in range(len(sumYaksu)):\n",
    "    for j in range(len(sumYaksu)):\n",
    "        if (i+1 != j+1) and (i+1) == sumYaksu[j] and (j+1) == sumYaksu[i] and sorted([i+1, j+1]) not in result:\n",
    "            result.append(sorted([i+1, j+1]))\n",
    "\n",
    "print(len(result))"
   ]
  },
  {
   "cell_type": "code",
   "execution_count": 10,
   "metadata": {},
   "outputs": [
    {
     "name": "stdout",
     "output_type": "stream",
     "text": [
      "['26', '37']\n"
     ]
    }
   ],
   "source": [
    "# 2. 리스트에 있는 숫자들의 최빈값을 구하는 프로그램을 만들어라.\n",
    "# [12, 17, 19, 17, 23] = 17\n",
    "# [26, 37, 26, 37, 91] = 26, 37\n",
    "# [28, 30, 32, 34, 144] = 없다\n",
    "\n",
    "# 최빈값 : 자료의 값 중에서 가장 많이 나타난 값 \n",
    "# ① 자료의 값이 모두 같거나 모두 다르면 최빈값은 없다.\n",
    "# ② 자료의 값이 모두 다를 때, 도수가 가장 큰 값이 1개 이상 있으면 그 값은 모두 최빈값이다.\n",
    "\n",
    "# [26, 37, 26, 37, 91, 26]\n",
    "# [26, 26, 26, 26, 26, 26]\n",
    "# [26, 37, 26, 37, 26, 37]\n",
    "# [26, 26, 37, 37, 91]\n",
    "\n",
    "numLst = input(\"input lst: \").split(\", \")\n",
    "frequencyCount = 2 # 자료의 값이 모두 다르면 카운트가 모두 1 이기 때문에 기본값을 2로 설정한다.\n",
    "modeWhich = []\n",
    "\n",
    "for i in numLst:\n",
    "    if numLst.count(i) != len(numLst) and i not in modeWhich: # 자료의 값이 모두 같은지도 확인한다.\n",
    "        if numLst.count(i) == frequencyCount: # 빈도수만 같다면\n",
    "            modeWhich.append(i) # 값만 추가한다.\n",
    "        elif numLst.count(i) > frequencyCount: # 빈도수가 더 높게 나왔으면\n",
    "            frequencyCount = numLst.count(i) # 빈도수를 변경한다.\n",
    "            modeWhich = [i] # 최고 빈도수가 바뀌었으니 이전 값들은 버린다.\n",
    "\n",
    "print(modeWhich) # 빈 리스트가 나오면 최빈값은 없는거다."
   ]
  },
  {
   "cell_type": "code",
   "execution_count": null,
   "metadata": {},
   "outputs": [],
   "source": []
  }
 ],
 "metadata": {
  "kernelspec": {
   "display_name": "Python 3",
   "language": "python",
   "name": "python3"
  },
  "language_info": {
   "codemirror_mode": {
    "name": "ipython",
    "version": 3
   },
   "file_extension": ".py",
   "mimetype": "text/x-python",
   "name": "python",
   "nbconvert_exporter": "python",
   "pygments_lexer": "ipython3",
   "version": "3.12.2"
  }
 },
 "nbformat": 4,
 "nbformat_minor": 2
}
