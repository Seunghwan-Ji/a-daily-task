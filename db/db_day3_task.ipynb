{
 "cells": [
  {
   "cell_type": "code",
   "execution_count": 22,
   "metadata": {},
   "outputs": [
    {
     "name": "stdout",
     "output_type": "stream",
     "text": [
      "14\n",
      "98\n",
      "686\n",
      "4802\n"
     ]
    }
   ],
   "source": [
    "# 9. 수를 n번 만큼 계산하는 계산기를 만드세요. 사칙연산 기능이 포함되어있어야 합니다.\n",
    "# 예:\n",
    "# 입력1: 2\n",
    "\n",
    "# 입력2: 8/2\n",
    "\n",
    "# 출력:2\n",
    "\n",
    "# 계산:\n",
    "# 1회 8/2=4\n",
    "\n",
    "# 2회 4/2=2\n",
    "\n",
    "# 출력:2\n",
    "\n",
    "inputRepeat = int(input(\"계산 횟수: \"))\n",
    "inputModify = input(\"수식 입력: \")\n",
    "symbol = [\"+\", \"-\", \"*\", \"/\"]\n",
    "calNum = \"\"\n",
    "result = eval(inputModify)\n",
    "\n",
    "for s in symbol:\n",
    "    if s in inputModify: # 입력 문자열에서 연산 기호 추출\n",
    "        symbol = s\n",
    "        calNum = inputModify[inputModify.index(s)+1:] # 연산 기호 뒤에 오는 숫자 추출\n",
    "        break\n",
    "\n",
    "for i in range(1, inputRepeat+1):\n",
    "    print(result) # 계산할 때마다 출력\n",
    "    if i == inputRepeat:\n",
    "        break\n",
    "    else:\n",
    "        result = eval(str(result) + symbol + calNum) # 이전 계산 결과를 가지고 다시 문자열로 된 수식을 만든다."
   ]
  },
  {
   "cell_type": "code",
   "execution_count": null,
   "metadata": {},
   "outputs": [],
   "source": []
  }
 ],
 "metadata": {
  "kernelspec": {
   "display_name": "Python 3",
   "language": "python",
   "name": "python3"
  },
  "language_info": {
   "codemirror_mode": {
    "name": "ipython",
    "version": 3
   },
   "file_extension": ".py",
   "mimetype": "text/x-python",
   "name": "python",
   "nbconvert_exporter": "python",
   "pygments_lexer": "ipython3",
   "version": "3.12.2"
  }
 },
 "nbformat": 4,
 "nbformat_minor": 2
}
