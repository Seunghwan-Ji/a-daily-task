{
 "cells": [
  {
   "cell_type": "code",
   "execution_count": 2,
   "metadata": {},
   "outputs": [
    {
     "name": "stdout",
     "output_type": "stream",
     "text": [
      "4\n"
     ]
    }
   ],
   "source": [
    "# 1. 문자열 찾기\n",
    "# 주어진 영어 문장에서 특정 문자열의 개수를 구하는 문제이다.\n",
    "# 아래의 예시에서 ti는 총 4번 나오게 되므로 4가 답이다.\n",
    "# 대소문자는 구분한다.\n",
    "\n",
    "import re\n",
    "strs = \"Start eating well with these eight tips for healthy eating, which cover the basics of a healthy diet and good nutrition.\"\n",
    "print(len(re.findall(\"ti\", strs)))\n",
    "\n",
    "\n",
    "# 2. 가장 긴 회문 길이 구하기\n",
    "# 회문: “기러기”또는 “level”과 같이 거꾸로 읽어도 제대로 읽은 것과 같은 문장이나 낱말을 회문(回文, palindrome)이라 한다. \n",
    "# 주어진 글자판에서 가로,세로를 모두 보아 가장 긴 직선 회문(Palindrome)을 찾아 그 길이를 리턴하는 함수를 구현하시오..\n",
    "\n",
    "arr = []\n",
    "\n",
    "with open(\"palin.txt\", \"r\") as f:\n",
    "    line = f.read().split(\"\\n\")\n",
    "\n",
    "for i in line:\n",
    "    arr.append(i)\n",
    "\n",
    "palindrome = \"\" # 가장 긴 회문\n",
    "palindrome_length = 1 # 길이\n",
    "\n",
    "# 가로 회문 조회\n",
    "for row in range(len(arr)):\n",
    "    for col in range(len(arr[0])):\n",
    "        strs = \"\"\n",
    "        for i in range(col, len(arr[0])): # 현재 열 부터 끝 열까지 알파벳을 더함\n",
    "            strs += arr[row][i]\n",
    "            len_strs = len(strs)\n",
    "            if len_strs != 1:\n",
    "                middle = len_strs // 2\n",
    "                if strs[:middle] == strs[-1:middle:-1] or strs[:middle] == strs[-1:middle-1:-1]: # 회문이면\n",
    "                    if len_strs > palindrome_length:\n",
    "                        palindrome = strs\n",
    "                        palindrome_length = len_strs\n",
    "\n",
    "# 세로 회문 조회\n",
    "for col in range(len(arr[0])):\n",
    "    for row in range(len(arr)):\n",
    "        strs = \"\"\n",
    "        for i in range(row, len(arr)): # 현재 행 부터 끝 행까지 알파벳을 더함\n",
    "            strs += arr[i][col]\n",
    "            len_strs = len(strs)\n",
    "            if len_strs != 1:\n",
    "                middle = len_strs // 2\n",
    "                if strs[:middle] == strs[-1:middle:-1] or strs[:middle] == strs[-1:middle-1:-1]: # 회문이면\n",
    "                    if len_strs > palindrome_length:\n",
    "                        palindrome = strs\n",
    "                        palindrome_length = len_strs\n",
    "\n",
    "print(palindrome_length, palindrome)"
   ]
  },
  {
   "cell_type": "code",
   "execution_count": null,
   "metadata": {},
   "outputs": [],
   "source": []
  }
 ],
 "metadata": {
  "kernelspec": {
   "display_name": "Python 3",
   "language": "python",
   "name": "python3"
  },
  "language_info": {
   "codemirror_mode": {
    "name": "ipython",
    "version": 3
   },
   "file_extension": ".py",
   "mimetype": "text/x-python",
   "name": "python",
   "nbconvert_exporter": "python",
   "pygments_lexer": "ipython3",
   "version": "3.12.2"
  }
 },
 "nbformat": 4,
 "nbformat_minor": 2
}
