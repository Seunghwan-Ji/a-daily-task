{
 "cells": [
  {
   "cell_type": "code",
   "execution_count": 14,
   "metadata": {},
   "outputs": [
    {
     "name": "stdout",
     "output_type": "stream",
     "text": [
      "['Askar', 'Artem']\n"
     ]
    }
   ],
   "source": [
    "# 1. 상근이는 모든 사람의 출입카드 시스템의 로그를 가지고 있다. 이 로그는 어떤 사람이 회사에 들어왔는지, 나갔는지가 기록되어져 있다. 로그가 주어졌을 때, 현재 회사에 있는 모든 사람을 구하는 프로그램을 작성하시오.\n",
    "\n",
    "# 입력\n",
    "# 첫째 줄에 로그에 기록된 출입 기록의 수 n이 주어진다. (2 ≤ n ≤ 106) 다음 n개의 줄에는 출입 기록이 순서대로 주어지며, 각 사람의 이름이 주어지고 \"enter\"나 \"leave\"가 주어진다. \"enter\"인 경우는 출근, \"leave\"인 경우는 퇴근이다.\n",
    "\n",
    "# 회사에는 동명이인이 없으며, 대소문자가 다른 경우에는 다른 이름이다. 사람들의 이름은 알파벳 대소문자로 구성된 5글자 이하의 문자열이다.\n",
    "\n",
    "# 출력\n",
    "# 현재 회사에 있는 사람의 이름을 사전 순의 역순으로 한 줄에 한 명씩 출력한다.\n",
    "\n",
    "# 예제 입력1\n",
    "# 4\n",
    "# Baha enter\n",
    "# Askar enter\n",
    "# Baha leave\n",
    "# Artem enter\n",
    "\n",
    "# 예제 출력 1 \n",
    "# Askar\n",
    "# Artem\n",
    "\n",
    "testCase = \"\"\"\n",
    "    4\n",
    "    Baha enter\n",
    "    Askar enter\n",
    "    Baha leave\n",
    "    Artem enter\n",
    "    Askar leave\n",
    "    Askar enter\n",
    "    \"\"\"\n",
    "\n",
    "def solution(strs):\n",
    "    strs = list( map( str.strip, (strs.strip()).split(\"\\n\") ) )[1:]\n",
    "    res = []\n",
    "    for i in strs:\n",
    "        split_log = i.split()\n",
    "        name, state = split_log[0], split_log[1]\n",
    "        if state == \"enter\":\n",
    "            res.append(name)\n",
    "        elif state == \"leave\" and name in res:\n",
    "            res.remove(name)\n",
    "    return sorted(res, reverse=True)\n",
    "\n",
    "print(solution(testCase))\n",
    "\n",
    "\n",
    "# 2. 도현이는 바구니를 총 N개 가지고 있고, 각각의 바구니에는 1번부터 N번까지 번호가 매겨져 있다. 바구니에는 공이 1개씩 들어있고, 처음에는 바구니에 적혀있는 번호와 같은 번호가 적힌 공이 들어있다.\n",
    "# 도현이는 앞으로 M번 공을 바꾸려고 한다. 도현이는 공을 바꿀 바구니 2개를 선택하고, 두 바구니에 들어있는 공을 서로 교환한다.\n",
    "# 공을 어떻게 바꿀지가 주어졌을 때, M번 공을 바꾼 이후에 각 바구니에 어떤 공이 들어있는지 구하는 프로그램을 작성하시오.\n",
    "\n",
    "# 입력\n",
    "# 첫째 줄에 N (1 ≤ N ≤ 100)과 M (1 ≤ M ≤ 100)이 주어진다.\n",
    "\n",
    "# 둘째 줄부터 M개의 줄에 걸쳐서 공을 교환할 방법이 주어진다. 각 방법은 두 정수 i j로 이루어져 있으며, i번 바구니와 j번 바구니에 들어있는 공을 교환한다는 뜻이다. (1 ≤ i ≤ j ≤ N)\n",
    "\n",
    "# 도현이는 입력으로 주어진 순서대로 공을 교환한다.\n",
    "\n",
    "# 출력\n",
    "# 1번 바구니부터 N번 바구니에 들어있는 공의 번호를 공백으로 구분해 출력한다.\n",
    "\n",
    "# 예제 입력 1 \n",
    "# 5 4 (5번 바구니까지 있고, 4번 교환)\n",
    "# 1 2 (1번 바구니, 2번 바구니 공 교환)\n",
    "# 3 4\n",
    "# 1 4\n",
    "# 2 2 (2번 바구니, 2번 바구니 공 교환)\n",
    "# 예제 출력 1 \n",
    "# 3 1 4 2 5\n",
    "\n",
    "\n",
    "# 1 2 3 4 5\n",
    "# 2 1 3 4 5\n",
    "# 2 1 4 3 5\n",
    "# 3 1 4 2 5\n",
    "# 3 1 4 2 5\n",
    "\n",
    "testCase = \"\"\"\n",
    "    5 4\n",
    "    1 2\n",
    "    3 4\n",
    "    1 4\n",
    "    2 2\n",
    "    \"\"\"\n",
    "\n",
    "def solution(strs):\n",
    "    strs = list( map( str.strip, (strs.strip()).split(\"\\n\") ) )\n",
    "    end_Number = int(strs[0].split()[0]) # 마지막 바구니 번호\n",
    "    basket_dict = {num: num for num in range(1, end_Number+1)} # {바구니 번호 : 공 번호}\n",
    "    for i in strs[1:]:\n",
    "        split_i = list( map( int, i.split() ) )\n",
    "        basket1, basket2 = split_i[0], split_i[1]\n",
    "        basket_dict[basket1], basket_dict[basket2] = basket_dict[basket2], basket_dict[basket1] # 공 교환\n",
    "    return list(basket_dict.values()) # 공 번호 추출\n",
    "\n",
    "print(*solution(testCase))"
   ]
  },
  {
   "cell_type": "code",
   "execution_count": 42,
   "metadata": {},
   "outputs": [],
   "source": [
    "# 3. 날씨 뉴스를 모두 뽑아서 온도에 해당되는 수치 자료를 모두 추출하여 온도 정보를 요약해보세요.\n",
    "\n",
    "#yDmH0d > c-wiz:nth-child(30) > div > main > div.UW0SDc > c-wiz > c-wiz:nth-child(5)\n",
    "#yDmH0d > c-wiz:nth-child(30) > div > main > div.UW0SDc > c-wiz > c-wiz:nth-child(6)\n",
    "\n",
    "from selenium import webdriver\n",
    "from bs4 import BeautifulSoup\n",
    "import time\n",
    "import re\n",
    "\n",
    "def page_source_for_soup(html): # 페이지 소스를 파싱해서 반환\n",
    "    time.sleep(1)\n",
    "    return BeautifulSoup(html,'html.parser')\n",
    "\n",
    "driver = webdriver.Chrome() # 크롬 실행\n",
    "time.sleep(1)\n",
    "url = \"https://news.google.com/search?q=%EA%B5%90%ED%86%B5%EC%82%AC%EA%B3%A0&hl=ko&gl=KR&ceid=KR%3Ako\" # 접속할 페이지\n",
    "driver.get(url) # 링크 접속\n",
    "time.sleep(3) # 접속 시도 지연 시간"
   ]
  },
  {
   "cell_type": "code",
   "execution_count": 44,
   "metadata": {},
   "outputs": [
    {
     "ename": "NoSuchElementException",
     "evalue": "Message: no such element: Unable to locate element: {\"method\":\"css selector\",\"selector\":\"#yDmH0d > c-wiz > div > main > div.UW0SDc > c-wiz > c-wiz:nth-child(3) > c-wiz > article > div.m5k28 > div.XlKvRb > a\"}\n  (Session info: chrome=124.0.6367.63); For documentation on this error, please visit: https://www.selenium.dev/documentation/webdriver/troubleshooting/errors#no-such-element-exception\nStacktrace:\n\tGetHandleVerifier [0x00007FF667281502+60802]\n\t(No symbol) [0x00007FF6671FAC02]\n\t(No symbol) [0x00007FF6670B7CE4]\n\t(No symbol) [0x00007FF667106D4D]\n\t(No symbol) [0x00007FF667106E1C]\n\t(No symbol) [0x00007FF66714CE37]\n\t(No symbol) [0x00007FF66712ABBF]\n\t(No symbol) [0x00007FF66714A224]\n\t(No symbol) [0x00007FF66712A923]\n\t(No symbol) [0x00007FF6670F8FEC]\n\t(No symbol) [0x00007FF6670F9C21]\n\tGetHandleVerifier [0x00007FF66758411D+3217821]\n\tGetHandleVerifier [0x00007FF6675C60B7+3488055]\n\tGetHandleVerifier [0x00007FF6675BF03F+3459263]\n\tGetHandleVerifier [0x00007FF66733B846+823494]\n\t(No symbol) [0x00007FF667205F9F]\n\t(No symbol) [0x00007FF667200EC4]\n\t(No symbol) [0x00007FF667201052]\n\t(No symbol) [0x00007FF6671F18A4]\n\tBaseThreadInitThunk [0x00007FFE6AF9257D+29]\n\tRtlUserThreadStart [0x00007FFE6D0CAA48+40]\n",
     "output_type": "error",
     "traceback": [
      "\u001b[1;31m---------------------------------------------------------------------------\u001b[0m",
      "\u001b[1;31mNoSuchElementException\u001b[0m                    Traceback (most recent call last)",
      "\u001b[1;32mc:\\Users\\Seunghwan\\Desktop\\AI 웹서비스 공부\\a_daily_task\\django\\django_day14_task.ipynb 셀 4\u001b[0m line \u001b[0;36m2\n\u001b[0;32m      <a href='vscode-notebook-cell:/c%3A/Users/Seunghwan/Desktop/AI%20%EC%9B%B9%EC%84%9C%EB%B9%84%EC%8A%A4%20%EA%B3%B5%EB%B6%80/a_daily_task/django/django_day14_task.ipynb#W3sZmlsZQ%3D%3D?line=0'>1</a>\u001b[0m news_account \u001b[39m=\u001b[39m \u001b[39m\"\u001b[39m\u001b[39m#yDmH0d > c-wiz > div > main > div.UW0SDc > c-wiz > c-wiz:nth-child(3) > c-wiz > article > div.m5k28 > div.XlKvRb > a\u001b[39m\u001b[39m\"\u001b[39m\n\u001b[1;32m----> <a href='vscode-notebook-cell:/c%3A/Users/Seunghwan/Desktop/AI%20%EC%9B%B9%EC%84%9C%EB%B9%84%EC%8A%A4%20%EA%B3%B5%EB%B6%80/a_daily_task/django/django_day14_task.ipynb#W3sZmlsZQ%3D%3D?line=1'>2</a>\u001b[0m driver\u001b[39m.\u001b[39;49mfind_element(\u001b[39m\"\u001b[39;49m\u001b[39mcss selector\u001b[39;49m\u001b[39m\"\u001b[39;49m, news_account)\u001b[39m.\u001b[39mclick()\n\u001b[0;32m      <a href='vscode-notebook-cell:/c%3A/Users/Seunghwan/Desktop/AI%20%EC%9B%B9%EC%84%9C%EB%B9%84%EC%8A%A4%20%EA%B3%B5%EB%B6%80/a_daily_task/django/django_day14_task.ipynb#W3sZmlsZQ%3D%3D?line=2'>3</a>\u001b[0m time\u001b[39m.\u001b[39msleep(\u001b[39m1\u001b[39m)\n",
      "File \u001b[1;32mc:\\Program Files\\Python312\\Lib\\site-packages\\selenium\\webdriver\\remote\\webdriver.py:741\u001b[0m, in \u001b[0;36mWebDriver.find_element\u001b[1;34m(self, by, value)\u001b[0m\n\u001b[0;32m    738\u001b[0m     by \u001b[39m=\u001b[39m By\u001b[39m.\u001b[39mCSS_SELECTOR\n\u001b[0;32m    739\u001b[0m     value \u001b[39m=\u001b[39m \u001b[39mf\u001b[39m\u001b[39m'\u001b[39m\u001b[39m[name=\u001b[39m\u001b[39m\"\u001b[39m\u001b[39m{\u001b[39;00mvalue\u001b[39m}\u001b[39;00m\u001b[39m\"\u001b[39m\u001b[39m]\u001b[39m\u001b[39m'\u001b[39m\n\u001b[1;32m--> 741\u001b[0m \u001b[39mreturn\u001b[39;00m \u001b[39mself\u001b[39;49m\u001b[39m.\u001b[39;49mexecute(Command\u001b[39m.\u001b[39;49mFIND_ELEMENT, {\u001b[39m\"\u001b[39;49m\u001b[39musing\u001b[39;49m\u001b[39m\"\u001b[39;49m: by, \u001b[39m\"\u001b[39;49m\u001b[39mvalue\u001b[39;49m\u001b[39m\"\u001b[39;49m: value})[\u001b[39m\"\u001b[39m\u001b[39mvalue\u001b[39m\u001b[39m\"\u001b[39m]\n",
      "File \u001b[1;32mc:\\Program Files\\Python312\\Lib\\site-packages\\selenium\\webdriver\\remote\\webdriver.py:347\u001b[0m, in \u001b[0;36mWebDriver.execute\u001b[1;34m(self, driver_command, params)\u001b[0m\n\u001b[0;32m    345\u001b[0m response \u001b[39m=\u001b[39m \u001b[39mself\u001b[39m\u001b[39m.\u001b[39mcommand_executor\u001b[39m.\u001b[39mexecute(driver_command, params)\n\u001b[0;32m    346\u001b[0m \u001b[39mif\u001b[39;00m response:\n\u001b[1;32m--> 347\u001b[0m     \u001b[39mself\u001b[39;49m\u001b[39m.\u001b[39;49merror_handler\u001b[39m.\u001b[39;49mcheck_response(response)\n\u001b[0;32m    348\u001b[0m     response[\u001b[39m\"\u001b[39m\u001b[39mvalue\u001b[39m\u001b[39m\"\u001b[39m] \u001b[39m=\u001b[39m \u001b[39mself\u001b[39m\u001b[39m.\u001b[39m_unwrap_value(response\u001b[39m.\u001b[39mget(\u001b[39m\"\u001b[39m\u001b[39mvalue\u001b[39m\u001b[39m\"\u001b[39m, \u001b[39mNone\u001b[39;00m))\n\u001b[0;32m    349\u001b[0m     \u001b[39mreturn\u001b[39;00m response\n",
      "File \u001b[1;32mc:\\Program Files\\Python312\\Lib\\site-packages\\selenium\\webdriver\\remote\\errorhandler.py:229\u001b[0m, in \u001b[0;36mErrorHandler.check_response\u001b[1;34m(self, response)\u001b[0m\n\u001b[0;32m    227\u001b[0m         alert_text \u001b[39m=\u001b[39m value[\u001b[39m\"\u001b[39m\u001b[39malert\u001b[39m\u001b[39m\"\u001b[39m]\u001b[39m.\u001b[39mget(\u001b[39m\"\u001b[39m\u001b[39mtext\u001b[39m\u001b[39m\"\u001b[39m)\n\u001b[0;32m    228\u001b[0m     \u001b[39mraise\u001b[39;00m exception_class(message, screen, stacktrace, alert_text)  \u001b[39m# type: ignore[call-arg]  # mypy is not smart enough here\u001b[39;00m\n\u001b[1;32m--> 229\u001b[0m \u001b[39mraise\u001b[39;00m exception_class(message, screen, stacktrace)\n",
      "\u001b[1;31mNoSuchElementException\u001b[0m: Message: no such element: Unable to locate element: {\"method\":\"css selector\",\"selector\":\"#yDmH0d > c-wiz > div > main > div.UW0SDc > c-wiz > c-wiz:nth-child(3) > c-wiz > article > div.m5k28 > div.XlKvRb > a\"}\n  (Session info: chrome=124.0.6367.63); For documentation on this error, please visit: https://www.selenium.dev/documentation/webdriver/troubleshooting/errors#no-such-element-exception\nStacktrace:\n\tGetHandleVerifier [0x00007FF667281502+60802]\n\t(No symbol) [0x00007FF6671FAC02]\n\t(No symbol) [0x00007FF6670B7CE4]\n\t(No symbol) [0x00007FF667106D4D]\n\t(No symbol) [0x00007FF667106E1C]\n\t(No symbol) [0x00007FF66714CE37]\n\t(No symbol) [0x00007FF66712ABBF]\n\t(No symbol) [0x00007FF66714A224]\n\t(No symbol) [0x00007FF66712A923]\n\t(No symbol) [0x00007FF6670F8FEC]\n\t(No symbol) [0x00007FF6670F9C21]\n\tGetHandleVerifier [0x00007FF66758411D+3217821]\n\tGetHandleVerifier [0x00007FF6675C60B7+3488055]\n\tGetHandleVerifier [0x00007FF6675BF03F+3459263]\n\tGetHandleVerifier [0x00007FF66733B846+823494]\n\t(No symbol) [0x00007FF667205F9F]\n\t(No symbol) [0x00007FF667200EC4]\n\t(No symbol) [0x00007FF667201052]\n\t(No symbol) [0x00007FF6671F18A4]\n\tBaseThreadInitThunk [0x00007FFE6AF9257D+29]\n\tRtlUserThreadStart [0x00007FFE6D0CAA48+40]\n"
     ]
    }
   ],
   "source": [
    "news_account = \"#yDmH0d > c-wiz > div > main > div.UW0SDc > c-wiz > c-wiz:nth-child(3) > c-wiz > article > div.m5k28 > div.XlKvRb > a\"\n",
    "driver.find_element(\"css selector\", news_account).click()\n",
    "time.sleep(1)"
   ]
  },
  {
   "cell_type": "code",
   "execution_count": null,
   "metadata": {},
   "outputs": [],
   "source": [
    "soup = page_source_for_soup(driver.page_source) # 현 페이지 내용 파싱\n",
    "soup"
   ]
  },
  {
   "cell_type": "code",
   "execution_count": null,
   "metadata": {},
   "outputs": [],
   "source": []
  }
 ],
 "metadata": {
  "kernelspec": {
   "display_name": "Python 3",
   "language": "python",
   "name": "python3"
  },
  "language_info": {
   "codemirror_mode": {
    "name": "ipython",
    "version": 3
   },
   "file_extension": ".py",
   "mimetype": "text/x-python",
   "name": "python",
   "nbconvert_exporter": "python",
   "pygments_lexer": "ipython3",
   "version": "3.12.2"
  }
 },
 "nbformat": 4,
 "nbformat_minor": 2
}
