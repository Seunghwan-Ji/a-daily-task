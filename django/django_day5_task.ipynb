{
 "cells": [
  {
   "cell_type": "code",
   "execution_count": 3,
   "metadata": {},
   "outputs": [
    {
     "name": "stdout",
     "output_type": "stream",
     "text": [
      "5\n"
     ]
    }
   ],
   "source": [
    "# 1.문자열의 길이를 구하는 함수를 구현하세요.\n",
    "\n",
    "def my_len(strs):\n",
    "    res = 0\n",
    "    for i in strs:\n",
    "        if i:\n",
    "            res += 1\n",
    "    return res\n",
    "\n",
    "print(my_len(\"adfhg\"))"
   ]
  },
  {
   "cell_type": "code",
   "execution_count": 8,
   "metadata": {},
   "outputs": [
    {
     "name": "stdout",
     "output_type": "stream",
     "text": [
      "1 23\n",
      "      45 6\n",
      "      \n",
      "            7 89\n",
      "1 23\n",
      "      45 6\n",
      "      \n",
      "            7 89\n"
     ]
    }
   ],
   "source": [
    "# 2. strip 함수를 구현하세요.\n",
    "\n",
    "def my_strip(testCase):\n",
    "    start = 0\n",
    "    end = 0\n",
    "\n",
    "    # 앞에서 처음으로 공백이 아닌 문자 찾기\n",
    "    for i in range(len(testCase)):\n",
    "        if testCase[i] != \" \" and testCase[i] != \"\\n\":\n",
    "            start = i\n",
    "            break\n",
    "    \n",
    "    # 뒤에서 처음으로 공백이 아닌 문자 찾기\n",
    "    for i in range(len(testCase)-1, -1, -1):\n",
    "        if testCase[i] != \" \" and testCase[i] != \"\\n\":\n",
    "            end = i\n",
    "            break\n",
    "    \n",
    "    return testCase[start:end+1]\n",
    "\n",
    "testCase = \"\"\"\n",
    "         1 23\n",
    "      45 6\n",
    "      \n",
    "            7 89\n",
    "    \n",
    "    \"\"\"\n",
    "\n",
    "print(my_strip(testCase))\n",
    "\n",
    "print(testCase.strip())"
   ]
  },
  {
   "cell_type": "code",
   "execution_count": 24,
   "metadata": {},
   "outputs": [
    {
     "name": "stdout",
     "output_type": "stream",
     "text": [
      "0\n"
     ]
    }
   ],
   "source": [
    "# 3. 두 문자열을 전달받아 동일하면 1, 그렇지 않으면 0을 리턴하는 함수를 구현하세요.\n",
    "\n",
    "def compare(str1, str2):\n",
    "    return 1 if str1 == str2 else 0\n",
    "\n",
    "print(compare(\"?\", \" ?\"))"
   ]
  },
  {
   "cell_type": "code",
   "execution_count": 30,
   "metadata": {},
   "outputs": [
    {
     "name": "stdout",
     "output_type": "stream",
     "text": [
      "0\n"
     ]
    }
   ],
   "source": [
    "# 4. 짝지어 제거하기는, 알파벳 소문자로 이루어진 문자열을 가지고 시작합니다. 먼저 문자열에서 같은 알파벳이 2개 붙어 있는 짝을 찾습니다. 그다음, 그 둘을 제거한 뒤, 앞뒤로 문자열을 이어 붙입니다. 이 과정을 반복해서 문자열을 모두 제거한다면 짝지어 제거하기가 종료됩니다. 문자열 S가 주어졌을 때, 짝지어 제거하기를 성공적으로 수행할 수 있는지 반환하는 함수를 완성해 주세요. 성공적으로 수행할 수 있으면 1을, 아닐 경우 0을 리턴해주면 됩니다.\n",
    "\n",
    "def solution(strs):\n",
    "    res = 0\n",
    "    while strs: # 문자열이 모두 제거되면 중지\n",
    "        for i in range(len(strs)-1):\n",
    "            if strs[i] == strs[i+1]:\n",
    "                strs = strs[:i] + strs[i+2:] # 제거하고 앞 뒤 합체\n",
    "                res = 1\n",
    "                break\n",
    "        if not res:\n",
    "            break # res가 1이 되지 않았으면 중지\n",
    "    \n",
    "    return res\n",
    "\n",
    "print(solution(\"baabaa\"))\n",
    "print(solution(\"cdcd\"))"
   ]
  },
  {
   "cell_type": "code",
   "execution_count": null,
   "metadata": {},
   "outputs": [],
   "source": []
  }
 ],
 "metadata": {
  "kernelspec": {
   "display_name": "Python 3",
   "language": "python",
   "name": "python3"
  },
  "language_info": {
   "codemirror_mode": {
    "name": "ipython",
    "version": 3
   },
   "file_extension": ".py",
   "mimetype": "text/x-python",
   "name": "python",
   "nbconvert_exporter": "python",
   "pygments_lexer": "ipython3",
   "version": "3.12.2"
  }
 },
 "nbformat": 4,
 "nbformat_minor": 2
}
