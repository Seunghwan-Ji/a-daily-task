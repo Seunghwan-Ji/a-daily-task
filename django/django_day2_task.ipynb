{
 "cells": [
  {
   "cell_type": "code",
   "execution_count": 3,
   "metadata": {},
   "outputs": [
    {
     "data": {
      "text/plain": [
       "[]"
      ]
     },
     "execution_count": 3,
     "metadata": {},
     "output_type": "execute_result"
    }
   ],
   "source": [
    "# 1. 영어권 뉴스 사이트에 접속하여 기사를 스크랩한 다음, 공백 및 마침표 등으로 구분하여 리스트에 저장하세요.\n",
    "\n",
    "from selenium import webdriver\n",
    "from bs4 import BeautifulSoup\n",
    "import time\n",
    "\n",
    "driver = webdriver.Chrome()\n",
    "time.sleep(1)\n",
    "url = \"https://www.bbc.com/news/world-us-canada-68671732\"\n",
    "driver.get(url)\n",
    "time.sleep(3)\n",
    "soup = BeautifulSoup(driver.page_source,'html.parser')\n",
    "textLst = soup.select('section[data-component=\"text-block\"]') # 문장 태그\n",
    "result = []\n",
    "\n",
    "for t in textLst:\n",
    "    row = t.text.strip() # 문장\n",
    "    wordLst = row[:-1].split() # 문장의 마침표 전 까지 공백으로 스플릿\n",
    "    result += wordLst\n",
    "print(result)"
   ]
  },
  {
   "cell_type": "code",
   "execution_count": 36,
   "metadata": {},
   "outputs": [
    {
     "data": {
      "text/plain": [
       "'AbCdEfG'"
      ]
     },
     "execution_count": 36,
     "metadata": {},
     "output_type": "execute_result"
    }
   ],
   "source": [
    "# 2. 영어 알파벳으로 이루어진 문자열 str이 주어집니다. 각 알파벳을 대문자는 소문자로 소문자는 대문자로 변환해서 출력하는 코드를 작성해 보세요.\n",
    "\n",
    "def convert(word):\n",
    "    result = \"\"\n",
    "    for i in word:\n",
    "        iLow = i.lower()\n",
    "        iUp = i.upper()\n",
    "        if i == iLow:\n",
    "            result += iUp\n",
    "        else:\n",
    "            result += iLow\n",
    "    return result\n",
    "\n",
    "convert(\"aBcDeFg\")"
   ]
  },
  {
   "cell_type": "code",
   "execution_count": null,
   "metadata": {},
   "outputs": [],
   "source": []
  }
 ],
 "metadata": {
  "kernelspec": {
   "display_name": "Python 3",
   "language": "python",
   "name": "python3"
  },
  "language_info": {
   "codemirror_mode": {
    "name": "ipython",
    "version": 3
   },
   "file_extension": ".py",
   "mimetype": "text/x-python",
   "name": "python",
   "nbconvert_exporter": "python",
   "pygments_lexer": "ipython3",
   "version": "3.12.2"
  }
 },
 "nbformat": 4,
 "nbformat_minor": 2
}
