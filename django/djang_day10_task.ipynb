{
 "cells": [
  {
   "cell_type": "code",
   "execution_count": 2,
   "metadata": {},
   "outputs": [
    {
     "name": "stdout",
     "output_type": "stream",
     "text": [
      "bat.y.abcdefghi\n",
      "z--\n",
      "aaa\n",
      "123_.def\n",
      "abcdefghijklmn\n",
      "bbb\n"
     ]
    }
   ],
   "source": [
    "# 1. 신규 유저가 입력한 아이디를 나타내는 new_id가 매개변수로 주어질 때, \"네오\"가 설계한 7단계의 처리 과정을 거친 후의 추천 아이디를 return 하도록 solution 함수를 완성해 주세요.\n",
    "\n",
    "stage2 = \"~!@#$%^&*()=+[{]}:?,<>/\"\n",
    "\n",
    "def solution(new_id):\n",
    "    res = \"\"\n",
    "\n",
    "    for i in range(len(new_id)):\n",
    "        var = new_id[i]\n",
    "        var_lower = var.lower()\n",
    "        if var != var_lower: # 1단계\n",
    "            var = var_lower # 소문자로 변경\n",
    "        elif var in stage2: # 2단계\n",
    "            var = \"\" # 빈 문자열로 변경\n",
    "        res += var # 문자열 추가\n",
    "    \n",
    "    while \"..\" in res: # 3단계\n",
    "        res = res.replace(\"..\", \".\") # 이웃한 마침표가 없을때 까지 대체\n",
    "\n",
    "    if res[0] == \".\": # 4단계_1\n",
    "        res = res[1:] # 첫 부분 제외\n",
    "    \n",
    "    if res and res[-1] == \".\": # 4단계_2\n",
    "        res = res[:len(res)-1] # 끝 부분 제외\n",
    "\n",
    "    if not res: # 5단계\n",
    "        res = \"a\"\n",
    "    elif len(res) >= 16: # 6단계\n",
    "        res = res[:15] # 14번째 인덱스까지만\n",
    "        if res[-1] == \".\":\n",
    "            res = res[:len(res)-1] # 끝 부분 제외\n",
    "    \n",
    "    if len(res) <= 2: # 7단계\n",
    "        while len(res) < 3: # 길이가 3이될 때 까지 반복\n",
    "            res += res[-1]\n",
    "    \n",
    "    return res\n",
    "\n",
    "print(solution(\"...!@BaT#*..y.abcdefghijklm\"))\n",
    "print(solution(\"z-+.^.\"))\n",
    "print(solution(\"=.=\"))\n",
    "print(solution(\"123_.def\"))\n",
    "print(solution(\"abcdefghijklmn.p\"))"
   ]
  },
  {
   "cell_type": "code",
   "execution_count": null,
   "metadata": {},
   "outputs": [],
   "source": []
  }
 ],
 "metadata": {
  "kernelspec": {
   "display_name": "Python 3",
   "language": "python",
   "name": "python3"
  },
  "language_info": {
   "codemirror_mode": {
    "name": "ipython",
    "version": 3
   },
   "file_extension": ".py",
   "mimetype": "text/x-python",
   "name": "python",
   "nbconvert_exporter": "python",
   "pygments_lexer": "ipython3",
   "version": "3.12.2"
  }
 },
 "nbformat": 4,
 "nbformat_minor": 2
}
