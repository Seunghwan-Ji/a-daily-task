{
 "cells": [
  {
   "cell_type": "code",
   "execution_count": 2,
   "metadata": {},
   "outputs": [
    {
     "data": {
      "text/plain": [
       "'We arthwold'"
      ]
     },
     "execution_count": 2,
     "metadata": {},
     "output_type": "execute_result"
    }
   ],
   "source": [
    "# 1. 문자열 my_string이 매개변수로 주어집니다. my_string에서 중복된 문자를 제거하고 하나의 문자만 남긴 문자열을 return하도록 solution 함수를 완성해주세요.\n",
    "\n",
    "def solution(my_string):\n",
    "    result = \"\"\n",
    "    for i in my_string:\n",
    "        if i not in result:\n",
    "            result += i\n",
    "    return result\n",
    "        \n",
    "solution(\"We are the world\")"
   ]
  },
  {
   "cell_type": "code",
   "execution_count": 8,
   "metadata": {},
   "outputs": [
    {
     "data": {
      "text/plain": [
       "['O', 'O', 'X', 'O']"
      ]
     },
     "execution_count": 8,
     "metadata": {},
     "output_type": "execute_result"
    }
   ],
   "source": [
    "# 2. 덧셈, 뺄셈 수식들이 'X [연산자] Y = Z' 형태로 들어있는 문자열 배열 quiz가 매개변수로 주어집니다. 수식이 옳다면 \"O\"를 틀리다면 \"X\"를 순서대로 담은 배열을 return하도록 solution 함수를 완성해주세요.\n",
    "\n",
    "def solution(quiz):\n",
    "    result = []\n",
    "    for i in quiz:\n",
    "        i = list(map(str.strip, i.split(\"=\")))\n",
    "        if eval(i[0]) == int(i[1]):\n",
    "            result.append(\"O\")\n",
    "        else:\n",
    "            result.append(\"X\")\n",
    "    return result\n",
    "        \n",
    "solution([\"19 - 6 = 13\", \"5 + 66 = 71\", \"5 - 15 = 63\", \"3 - 1 = 2\"])"
   ]
  },
  {
   "cell_type": "code",
   "execution_count": 28,
   "metadata": {},
   "outputs": [
    {
     "name": "stdout",
     "output_type": "stream",
     "text": [
      "3\n",
      "-1\n",
      "1\n",
      "2\n"
     ]
    }
   ],
   "source": [
    "# 3. 문자열 \"hello\"에서 각 문자를 오른쪽으로 한 칸씩 밀고 마지막 문자는 맨 앞으로 이동시키면 \"ohell\"이 됩니다. 이것을 문자열을 민다고 정의한다면 문자열 A와 B가 매개변수로 주어질 때, A를 밀어서 B가 될 수 있다면 밀어야 하는 최소 횟수를 return하고 밀어서 B가 될 수 없으면 -1을 return 하도록 solution 함수를 완성해보세요.\n",
    "\n",
    "def solution(strA, strB):\n",
    "    possible = False\n",
    "    test = strA\n",
    "    result = 0\n",
    "    if test != strB:\n",
    "        for _ in range(len(strA)):\n",
    "            test = test[-1] + test[:-1] # test = test 문자열의 마지막 문자를 앞으로 이동\n",
    "            result += 1\n",
    "            if test == strB:\n",
    "                possible = True # 가능\n",
    "                break\n",
    "        if not possible: # 불가능이면\n",
    "            result = -1\n",
    "    return result\n",
    "\n",
    "print(solution(\"hello\", \"llohe\"))\n",
    "print(solution(\"apple\", \"elppa\"))\n",
    "print(solution(\"atat\", \"tata\"))\n",
    "print(solution(\"abc\", \"bca\"))"
   ]
  },
  {
   "cell_type": "code",
   "execution_count": null,
   "metadata": {},
   "outputs": [],
   "source": []
  }
 ],
 "metadata": {
  "kernelspec": {
   "display_name": "Python 3",
   "language": "python",
   "name": "python3"
  },
  "language_info": {
   "codemirror_mode": {
    "name": "ipython",
    "version": 3
   },
   "file_extension": ".py",
   "mimetype": "text/x-python",
   "name": "python",
   "nbconvert_exporter": "python",
   "pygments_lexer": "ipython3",
   "version": "3.12.2"
  }
 },
 "nbformat": 4,
 "nbformat_minor": 2
}
