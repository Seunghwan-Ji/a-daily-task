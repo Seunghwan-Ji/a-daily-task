{
 "cells": [
  {
   "cell_type": "code",
   "execution_count": 12,
   "metadata": {},
   "outputs": [
    {
     "name": "stdout",
     "output_type": "stream",
     "text": [
      "120\n"
     ]
    }
   ],
   "source": [
    "# 1. 프로그래머스 치킨은 치킨을 시켜먹으면 한 마리당 쿠폰을 한 장 발급합니다. 쿠폰을 열 장 모으면 치킨을 한 마리 서비스로 받을 수 있고, 서비스 치킨에도 쿠폰이 발급됩니다. 시켜먹은 치킨의 수 chicken이 매개변수로 주어질 때 받을 수 있는 최대 서비스 치킨의 수를 return하도록 solution 함수를 완성해주세요.\n",
    "\n",
    "accumulated_coupons = 0 # 누적 쿠폰 수\n",
    "\n",
    "def solution(chicken):\n",
    "    global accumulated_coupons\n",
    "    accumulated_coupons += chicken\n",
    "    additional_coupon = chicken // 10\n",
    "    if additional_coupon != 0: # 주문하기 위한 쿠폰 수가 부족해질 때 까지 재귀호출\n",
    "        solution(additional_coupon)\n",
    "    else:\n",
    "        print(accumulated_coupons // 10) # 쿠폰으로 주문한 치킨 수 출력\n",
    "\n",
    "solution(1081)"
   ]
  },
  {
   "cell_type": "code",
   "execution_count": 89,
   "metadata": {},
   "outputs": [
    {
     "name": "stdout",
     "output_type": "stream",
     "text": [
      "2\n",
      "1\n",
      "2\n"
     ]
    }
   ],
   "source": [
    "# 2. PROGRAMMERS-962 행성에 불시착한 우주비행사 머쓱이는 외계행성의 언어를 공부하려고 합니다. 알파벳이 담긴 배열 spell과 외계어 사전 dic이 매개변수로 주어집니다. spell에 담긴 알파벳을 한번씩만 모두 사용한 단어가 dic에 존재한다면 1, 존재하지 않는다면 2를 return하도록 solution 함수를 완성해주세요.\n",
    "\n",
    "def solution(spell, dic):\n",
    "    for word in dic:\n",
    "        if len(word) == len(spell): # spell과 dic이 서로 길이가 같은 경우만\n",
    "            possible = True # 가능 여부\n",
    "            for s in spell:\n",
    "                if s not in word: # 단어 안에 spell의 요소가 없으면\n",
    "                    possible = False # 불가능\n",
    "                    break # 중지하고 다음 단어\n",
    "            if possible: # True가 유지 되었으면\n",
    "                return 1\n",
    "    return 2\n",
    "\n",
    "print(solution([\"p\", \"o\", \"s\"], [\"sod\", \"eocd\", \"qixm\", \"adio\", \"soo\"]))\n",
    "print(solution([\"z\", \"d\", \"x\"], [\"def\", \"dww\", \"dzx\", \"loveaw\"]))\n",
    "print(solution([\"s\", \"o\", \"m\", \"d\"], [\"moos\", \"dzx\", \"smm\", \"sunmmo\", \"som\"]))"
   ]
  },
  {
   "cell_type": "code",
   "execution_count": 125,
   "metadata": {},
   "outputs": [
    {
     "name": "stdout",
     "output_type": "stream",
     "text": [
      "['abcd', 'abcde', 'fabc']\n",
      "['', '1234', ' 12345', '123', '']\n",
      "['', 'abcd', ' abcdef', 'abc', '']\n",
      "['abcd']\n",
      "['', 'abcd', 'abcde', '', 'fabc', '']\n",
      "['abcd abcde', 'fabc']\n"
     ]
    }
   ],
   "source": [
    "# 3. split 함수의 기능과 유사하게 mySplit함수를 구현하세요.\n",
    "\n",
    "def mySplit(testCase, sep=None):\n",
    "    default = False\n",
    "    start_index = 0\n",
    "    res = []\n",
    "    if not sep:\n",
    "        sep = \" \"\n",
    "        default = True\n",
    "    for i in range(len(testCase)):\n",
    "        if i >= start_index:\n",
    "            end_index = i+len(sep) # 자르는 구간\n",
    "            cut = testCase[i:end_index] # i부터 sep의 길이 만큼 자름\n",
    "            if cut == sep: # 자른게 sep 구분자와 같으면\n",
    "                strs = testCase[start_index:i] # start_index부터 sep 구분자 등장 부분 전 까지의 문자열 저장\n",
    "                if not default or (default and strs):\n",
    "                    res.append(strs) # default가 True일 경우 빈 문자열이 아닌것만 추가함\n",
    "                start_index = end_index\n",
    "        if i == len(testCase)-1:\n",
    "            res.append(testCase[start_index:]) # 마지막 구분자 뒤에 오는 문자열도 추가\n",
    "    return res\n",
    "\n",
    "print(mySplit(\"abcd abcde  fabc\"))                     # = split()\n",
    "print(mySplit(\"($)1234($) 12345($)123($)\", sep=\"($)\")) # = split(\"($)\")\n",
    "print(mySplit(\"/abcd/ abcdef/abc/\", sep=\"/\"))          # = split(\"/\")\n",
    "print(mySplit(\"abcd\", sep=\"/\"))                        # = split(\"/\")\n",
    "print(mySplit(\" abcd abcde  fabc \", sep=\" \"))          # = split(\" \")\n",
    "print(mySplit(\"abcd abcde  fabc\", sep=\"  \"))           # = split(\"  \")"
   ]
  },
  {
   "cell_type": "code",
   "execution_count": null,
   "metadata": {},
   "outputs": [],
   "source": []
  }
 ],
 "metadata": {
  "kernelspec": {
   "display_name": "Python 3",
   "language": "python",
   "name": "python3"
  },
  "language_info": {
   "codemirror_mode": {
    "name": "ipython",
    "version": 3
   },
   "file_extension": ".py",
   "mimetype": "text/x-python",
   "name": "python",
   "nbconvert_exporter": "python",
   "pygments_lexer": "ipython3",
   "version": "3.12.2"
  }
 },
 "nbformat": 4,
 "nbformat_minor": 2
}
