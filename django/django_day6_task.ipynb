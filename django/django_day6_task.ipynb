{
 "cells": [
  {
   "cell_type": "code",
   "execution_count": 12,
   "metadata": {},
   "outputs": [
    {
     "data": {
      "text/plain": [
       "0"
      ]
     },
     "execution_count": 12,
     "metadata": {},
     "output_type": "execute_result"
    }
   ],
   "source": [
    "# 1. 절대값을 리턴해주는 abs 함수를 구현하세요\n",
    "\n",
    "def my_abs(num):\n",
    "    return (-1*num) if num < 0 else num\n",
    "\n",
    "print(my_abs(-1.5))\n",
    "print(my_abs(0))"
   ]
  },
  {
   "cell_type": "code",
   "execution_count": 92,
   "metadata": {},
   "outputs": [
    {
     "name": "stdout",
     "output_type": "stream",
     "text": [
      "1\n",
      "2\n",
      "3\n",
      "5.0\n",
      "8.0\n",
      "12.0\n"
     ]
    }
   ],
   "source": [
    "# 2. 효진이는 멀리 뛰기를 연습하고 있습니다. 효진이는 한번에 1칸, 또는 2칸을 뛸 수 있습니다. 칸이 총 4개 있을 때, 효진이는\n",
    "# (1칸, 1칸, 1칸, 1칸)\n",
    "# (1칸, 2칸, 1칸)\n",
    "# (1칸, 1칸, 2칸)\n",
    "# (2칸, 1칸, 1칸)\n",
    "# (2칸, 2칸)\n",
    "# 의 5가지 방법으로 맨 끝 칸에 도달할 수 있습니다. 멀리뛰기에 사용될 칸의 수 n이 주어질 때, 효진이가 끝에 도달하는 방법이 몇 가지인지 알아내, 여기에 1234567를 나눈 나머지를 리턴하는 함수, solution을 완성하세요.\n",
    "\n",
    "def factorial(var): # 팩토리얼 계산 함수\n",
    "    if var: # var!\n",
    "        var2 = var - 1\n",
    "        while True:\n",
    "            if var2 > 1:\n",
    "                var *= var2 # 1씩 줄이면서 곱함\n",
    "                var2 -= 1\n",
    "            else:\n",
    "                break\n",
    "    else:\n",
    "        var = 1 # 0! = 1\n",
    "    return var\n",
    "\n",
    "def combination(var1, var2): # 콤비네이션 계산 함수\n",
    "    if var1 >= var2: # nCr\n",
    "        return factorial(var1) / ( factorial(var1-var2)*factorial(var2) )\n",
    "    else: # var1이 더 작으면 조합되는 경우의 수가 존재하지 않으므로 0 반환\n",
    "        return 0\n",
    "    \n",
    "def solution(num):\n",
    "    number_of_cases = 0\n",
    "    var = num - 2 # 칸 수 - 2\n",
    "    if var >= 2:\n",
    "        number_of_cases = combination(var, 2) # var칸 중에서 두 칸을 고르는 경우의 수\n",
    "    return ( 1 + (num-1) + number_of_cases ) % 1234567\n",
    "    # 모두 1칸씩 뛴 배열 1가지 +\n",
    "    # 모두 1칸씩 뛴 배열에서 한 칸을 떼고 나머지 칸중 한곳에 1을 부여하는 경우의 수 +\n",
    "    # 모두 1칸씩 뛴 배열에서 두 칸을 떼고 나머지 칸중 두곳에 1을 부여하는 경우의 수\n",
    "\n",
    "print(solution(1))\n",
    "print(solution(2))\n",
    "print(solution(3))\n",
    "print(solution(4))\n",
    "print(solution(5))\n",
    "print(solution(6))"
   ]
  },
  {
   "cell_type": "code",
   "execution_count": 36,
   "metadata": {},
   "outputs": [
    {
     "name": "stdout",
     "output_type": "stream",
     "text": [
      "2\n",
      "5\n",
      "0\n"
     ]
    }
   ],
   "source": [
    "# 3. 한국중학교에 다니는 학생들은 각자 정수 번호를 갖고 있습니다. 이 학교 학생 3명의 정수 번호를 더했을 때 0이 되면 3명의 학생은 삼총사라고 합니다. 예를 들어, 5명의 학생이 있고, 각각의 정수 번호가 순서대로 -2, 3, 0, 2, -5일 때, 첫 번째, 세 번째, 네 번째 학생의 정수 번호를 더하면 0이므로 세 학생은 삼총사입니다. 또한, 두 번째, 네 번째, 다섯 번째 학생의 정수 번호를 더해도 0이므로 세 학생도 삼총사입니다. 따라서 이 경우 한국중학교에서는 두 가지 방법으로 삼총사를 만들 수 있습니다.\n",
    "# 한국중학교 학생들의 번호를 나타내는 정수 배열 number가 매개변수로 주어질 때, 학생들 중 삼총사를 만들 수 있는 방법의 수를 return 하도록 solution 함수를 완성하세요.\n",
    "\n",
    "def search_third(first, second, numList):\n",
    "    for i in numList[second+1:]: # i = 세번째 학생으로 선정\n",
    "        if numList[first] + numList[second] + i == 0: # 세 학생의 정수의 합이 0이면\n",
    "            return (numList[first], numList[second], i) # 정수 3개를 튜플로 반환\n",
    "\n",
    "def combine_trio(numList):\n",
    "    combineList = []\n",
    "    for i in range(len(numList)-2): # 처음부터 끝에서 세번째까지, i = 첫번째 학생으로 선정\n",
    "        for j in range(i+1, len(numList)-1): # i 다음부터 끝에서 두번째까지, j = 두번째 학생으로 선정\n",
    "            combine = search_third(i, j, numList) # 세번째 학생을 선정하고 조합 시도\n",
    "            if combine and combine not in combineList: # 조합이 이루어졌고, 중복인 조합이 아니면\n",
    "                combineList.append(combine)\n",
    "    return len(combineList)\n",
    "\n",
    "print(combine_trio([-2, 3, 0, 2, -5]))\n",
    "print(combine_trio([-3, -2, -1, 0, 1, 2, 3]))\n",
    "print(combine_trio([-1, 1, -1, 1]))"
   ]
  },
  {
   "cell_type": "code",
   "execution_count": null,
   "metadata": {},
   "outputs": [],
   "source": []
  }
 ],
 "metadata": {
  "kernelspec": {
   "display_name": "Python 3",
   "language": "python",
   "name": "python3"
  },
  "language_info": {
   "codemirror_mode": {
    "name": "ipython",
    "version": 3
   },
   "file_extension": ".py",
   "mimetype": "text/x-python",
   "name": "python",
   "nbconvert_exporter": "python",
   "pygments_lexer": "ipython3",
   "version": "3.12.2"
  }
 },
 "nbformat": 4,
 "nbformat_minor": 2
}
