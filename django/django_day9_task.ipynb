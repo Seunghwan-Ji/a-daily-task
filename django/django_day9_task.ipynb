{
 "cells": [
  {
   "cell_type": "code",
   "execution_count": 1,
   "metadata": {},
   "outputs": [
    {
     "name": "stdout",
     "output_type": "stream",
     "text": [
      "[[3, 1, 2, -3, 1], [-2, 0, 3, 5, 7], [2, 7, 8, 1, 3], [0, 2, -1, 9, 3], [7, 1, 8, -6, 4]]\n",
      "0\n",
      "0\n",
      "-15120\n",
      "0\n",
      "0\n",
      "-68040\n",
      "0\n",
      "48384\n",
      "124416\n",
      "124416\n"
     ]
    }
   ],
   "source": [
    "# 1. 다음과 같은 행렬에서 3*3 영역으로 나누어 요소들을 모두 곱했을때\n",
    "# 최대값이 얼마인가? (영역 이동은 우측으로 1칸, 아래쪽으로 1줄씩 이동)\n",
    "\n",
    "text = \"\"\"\n",
    "    3 1 2 -3 1\n",
    "    -2 0 3 5 7\n",
    "    2 7 8 1 3\n",
    "    0 2 -1 9 3\n",
    "    7 1 8 -6 4\n",
    "    \"\"\"\n",
    "\n",
    "arr = []\n",
    "\n",
    "for i in text.strip().split(\"\\n\"):\n",
    "    arr.append( list( map( int, i.strip().split() ) ) )\n",
    "\n",
    "print(arr)\n",
    "\n",
    "max_value = None\n",
    "for row in range(len(arr)-2): # 마지막 행 두줄 제외\n",
    "    for col in range(len(arr[0])-2):\n",
    "        part_arr = arr[row][col:col+3] + arr[row+1][col:col+3] + arr[row+2][col:col+3]\n",
    "        gop = 1\n",
    "        if 0 not in part_arr: # part_arr에 0이 없으면\n",
    "            for i in part_arr:\n",
    "                gop *= i # 모두 곱셈\n",
    "        else:\n",
    "            gop = 0\n",
    "        if max_value != None:\n",
    "            if gop > max_value:\n",
    "                max_value = gop\n",
    "        else:\n",
    "            max_value = gop # max_value의 시작값\n",
    "        print(gop)\n",
    "\n",
    "print(max_value)"
   ]
  },
  {
   "cell_type": "code",
   "execution_count": null,
   "metadata": {},
   "outputs": [],
   "source": []
  }
 ],
 "metadata": {
  "kernelspec": {
   "display_name": "Python 3",
   "language": "python",
   "name": "python3"
  },
  "language_info": {
   "codemirror_mode": {
    "name": "ipython",
    "version": 3
   },
   "file_extension": ".py",
   "mimetype": "text/x-python",
   "name": "python",
   "nbconvert_exporter": "python",
   "pygments_lexer": "ipython3",
   "version": "3.12.2"
  }
 },
 "nbformat": 4,
 "nbformat_minor": 2
}
