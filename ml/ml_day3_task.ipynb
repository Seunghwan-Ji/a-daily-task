{
 "cells": [
  {
   "cell_type": "code",
   "execution_count": 106,
   "metadata": {},
   "outputs": [],
   "source": [
    "import pandas as pd\n",
    "from sklearn import tree\n",
    "\n",
    "train = pd.read_csv('titanic/train.csv')\n",
    "test = pd.read_csv('titanic/test.csv')\n",
    "train_test_data = [train, test]\n",
    "\n",
    "for dataset in train_test_data:\n",
    "    # 결측치 처리\n",
    "    dataset['Age'].fillna(dataset['Age'].median(), inplace=True)\n",
    "    dataset['Embarked'].fillna('S', inplace=True)\n",
    "    if dataset is test:\n",
    "        dataset.loc[dataset['Fare'].isnull(), 'Fare'] = dataset[(dataset.Pclass == 3) & (dataset.Embarked == 'S')].Fare.median()\n",
    "    \n",
    "    # 새로운 열 추가\n",
    "    dataset['Family Size'] = dataset.SibSp + dataset.Parch\n",
    "    \n",
    "    # 필요없는 열 삭제\n",
    "    dataset.drop(['Name', 'Ticket', 'Cabin', 'SibSp', 'Parch'], axis=1, inplace=True)\n",
    "\n",
    "    # 문자열 데이터를 수치로 변환\n",
    "    dataset['Sex'] = dataset['Sex'].map({'male': 0, 'female': 1})\n",
    "    dataset['Embarked'] = dataset['Embarked'].map({'S': 0, 'C': 1, 'Q': 2})\n",
    "\n",
    "train.loc[:, 'Pclass':]\n",
    "test.loc[:, 'Pclass':]\n",
    "\n",
    "target = train.Survived\n",
    "model = tree.DecisionTreeClassifier(random_state=20240614).fit(train.loc[:, 'Pclass':], target)\n",
    "pred = model.predict(test.loc[:, 'Pclass':])\n",
    "\n",
    "pred\n",
    "\n",
    "submission = pd.DataFrame({\n",
    "    'PassengerId': test['PassengerId'],\n",
    "    'Survived': pred\n",
    "})\n",
    "\n",
    "submission\n",
    "\n",
    "submission.to_csv('titanic_submission.csv', index=False)"
   ]
  },
  {
   "cell_type": "code",
   "execution_count": null,
   "metadata": {},
   "outputs": [],
   "source": []
  }
 ],
 "metadata": {
  "kernelspec": {
   "display_name": "Python 3",
   "language": "python",
   "name": "python3"
  },
  "language_info": {
   "codemirror_mode": {
    "name": "ipython",
    "version": 3
   },
   "file_extension": ".py",
   "mimetype": "text/x-python",
   "name": "python",
   "nbconvert_exporter": "python",
   "pygments_lexer": "ipython3",
   "version": "3.12.2"
  }
 },
 "nbformat": 4,
 "nbformat_minor": 2
}
