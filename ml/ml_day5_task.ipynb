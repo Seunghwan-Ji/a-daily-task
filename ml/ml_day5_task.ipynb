{
 "cells": [
  {
   "cell_type": "code",
   "execution_count": 56,
   "metadata": {},
   "outputs": [],
   "source": [
    "import pandas as pd\n",
    "import numpy as np\n",
    "\n",
    "import matplotlib.pyplot as plt\n",
    "import seaborn as sns\n",
    "%matplotlib inline\n",
    "\n",
    "import warnings\n",
    "warnings.filterwarnings(\"ignore\")\n",
    "\n",
    "data = pd.read_csv(\"snsdata.csv\")\n",
    "data\n",
    "\n",
    "# 적절한 값으로 gender의 NaN을 대체하시오.\n",
    "\n",
    "rate_df = data.groupby('gender').mean().iloc[:, 4:] * 100\n",
    "rate_df\n",
    "\n",
    "subtraction = rate_df.iloc[0] - rate_df.iloc[1]\n",
    "F_hobby = subtraction[subtraction > 0].index\n",
    "M_hobby = subtraction[subtraction < 0].index\n",
    "\n",
    "def predict_gender(row):\n",
    "    f_score = row[F_hobby].sum()\n",
    "    m_score = row[M_hobby].sum()\n",
    "    return 'F' if f_score > m_score else 'M'\n",
    "\n",
    "predicted_gender = data[data['gender'].isnull()].apply(predict_gender, axis=1)\n",
    "\n",
    "data.loc[data['gender'].isnull(), 'gender'] = predicted_gender\n",
    "\n",
    "data.info()"
   ]
  },
  {
   "cell_type": "code",
   "execution_count": null,
   "metadata": {},
   "outputs": [],
   "source": []
  }
 ],
 "metadata": {
  "kernelspec": {
   "display_name": "Python 3",
   "language": "python",
   "name": "python3"
  },
  "language_info": {
   "codemirror_mode": {
    "name": "ipython",
    "version": 3
   },
   "file_extension": ".py",
   "mimetype": "text/x-python",
   "name": "python",
   "nbconvert_exporter": "python",
   "pygments_lexer": "ipython3",
   "version": "3.12.2"
  }
 },
 "nbformat": 4,
 "nbformat_minor": 2
}
