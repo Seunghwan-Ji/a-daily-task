{
 "cells": [
  {
   "cell_type": "code",
   "execution_count": 3,
   "metadata": {},
   "outputs": [],
   "source": [
    "# train - 3p trb blk 열 데이터 -> pos를 예측하는 knn 모델 생성\n",
    "# test - 3p trb blk 열 데이터를 knn 모델에 입력 -> 예측 결과와 정답 비교 -> 정확도 출력\n",
    "\n",
    "import pandas as pd\n",
    "import seaborn as sns\n",
    "import scipy.stats as ss\n",
    "from sklearn.preprocessing import MinMaxScaler\n",
    "from sklearn.preprocessing import Binarizer\n",
    "\n",
    "titanic = sns.load_dataset(\"titanic\")\n",
    "\n",
    "\n",
    "# 1. 표준화,정규화를 수행하시오.\n",
    "# 나이(age), 운임(fare)\n",
    "\n",
    "ss.zscore(titanic[['age', 'fare']]) # 표준화\n",
    "MinMaxScaler().fit_transform(titanic[['age', 'fare']]) # 정규화\n",
    "\n",
    "\n",
    "# 2. parch + sibsp = family 열 추가\n",
    "\n",
    "titanic['family'] = titanic.parch + titanic.sibsp\n",
    "\n",
    "\n",
    "# 3. family 열을 5명 기준으로 1과 0으로 변환\n",
    "\n",
    "bnr = Binarizer(threshold=5) # 해당 열은 연속형 변수로 이루어져 있으므로 Binarizer 함수 사용\n",
    "bnr.transform(pd.DataFrame(titanic.family))\n",
    "\n",
    "\n",
    "# 4. fare와 age 열 간의 상관관계\n",
    "\n",
    "# 프레임으로 알아보는 방식\n",
    "titanic[['age', 'fare']].corr()\n",
    "\n",
    "# 두 시리즈를 추출해서 알아보는 방식\n",
    "dropna_col = titanic.dropna(subset=['fare', 'age']) # 두 열에서 결측값을 제거\n",
    "ss.pearsonr(dropna_col.fare, dropna_col.age).correlation\n",
    "\n",
    "\n",
    "# 5. fare와 survived 열 간의 상관관계\n",
    "\n",
    "titanic[['fare', 'survived']].corr()\n",
    "\n",
    "\n",
    "# 6. embark_town에서 첫번째 글자만 추출하여 embark_town_name에 저장\n",
    "\n",
    "titanic['embark_town_name'] = titanic.embark_town.str[0]"
   ]
  },
  {
   "cell_type": "code",
   "execution_count": null,
   "metadata": {},
   "outputs": [],
   "source": []
  }
 ],
 "metadata": {
  "kernelspec": {
   "display_name": "Python 3",
   "language": "python",
   "name": "python3"
  },
  "language_info": {
   "codemirror_mode": {
    "name": "ipython",
    "version": 3
   },
   "file_extension": ".py",
   "mimetype": "text/x-python",
   "name": "python",
   "nbconvert_exporter": "python",
   "pygments_lexer": "ipython3",
   "version": "3.12.2"
  }
 },
 "nbformat": 4,
 "nbformat_minor": 2
}
