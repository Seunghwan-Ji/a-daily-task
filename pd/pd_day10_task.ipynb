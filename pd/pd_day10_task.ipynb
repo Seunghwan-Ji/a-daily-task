{
 "cells": [
  {
   "cell_type": "code",
   "execution_count": 23,
   "metadata": {},
   "outputs": [],
   "source": [
    "import pandas as pd\n",
    "\n",
    "pieces = []\n",
    "for y in range(1880, 2011):\n",
    "    frame = pd.read_csv(f\"babynames/yob{y}.txt\", names=['name', 'sex', 'births'])\n",
    "    frame['year'] = y\n",
    "    pieces.append(frame)\n",
    "\n",
    "names = pd.concat(pieces, ignore_index=True)\n",
    "names\n",
    "\n",
    "\n",
    "# 1. 최근 Steven이라는 이름은 최근 미국에서 인기있는 이름인가?\n",
    "\n",
    "steven_df = names[names.name == 'Steven']\n",
    "steven_df.groupby('year').births.sum().plot()\n",
    "\n",
    "# Steven이라는 이름을 달고 출생하는 아이는 적어지고 있는 추세다.\n",
    "\n",
    "\n",
    "# 2. '아이폰 출시(2007년6월)' 이후 미국에서 스티브라는 출생아 이름이 증가했는가?\n",
    "\n",
    "steven_df = names[(names.name == 'Steven') & (names.year > 2007)]\n",
    "steven_df.groupby('year').births.sum().plot()\n",
    "\n",
    "# 일정하게 감소중이다.\n",
    "\n",
    "\n",
    "# 6. 과거에 인기 있던 이름 중에 최근에 인기가 없는 이름?\n",
    "\n",
    "# 과거 top100\n",
    "past_df = names[(names.year >= 1880) & (names.year < 2000)]\n",
    "past_pop_df = past_df.groupby('name')['births'].sum().reset_index().sort_values('births', ascending=False).head(100)\n",
    "\n",
    "# 현대 top100\n",
    "recent_df = names[(names.year >= 2000) & (names.year < 2010)]\n",
    "recent_pop_df = recent_df.groupby('name')['births'].sum().reset_index().sort_values('births', ascending=False).head(100)\n",
    "\n",
    "# 과거 이름 집합과 현대 이름 집합 간 교집합을 제거한 이름들\n",
    "set(past_pop_df.name) - set(recent_pop_df.name)"
   ]
  },
  {
   "cell_type": "code",
   "execution_count": null,
   "metadata": {},
   "outputs": [],
   "source": []
  }
 ],
 "metadata": {
  "kernelspec": {
   "display_name": "Python 3",
   "language": "python",
   "name": "python3"
  },
  "language_info": {
   "codemirror_mode": {
    "name": "ipython",
    "version": 3
   },
   "file_extension": ".py",
   "mimetype": "text/x-python",
   "name": "python",
   "nbconvert_exporter": "python",
   "pygments_lexer": "ipython3",
   "version": "3.12.2"
  }
 },
 "nbformat": 4,
 "nbformat_minor": 2
}
