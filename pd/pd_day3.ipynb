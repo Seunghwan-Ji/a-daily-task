{
 "cells": [
  {
   "cell_type": "code",
   "execution_count": 88,
   "metadata": {},
   "outputs": [
    {
     "name": "stdout",
     "output_type": "stream",
     "text": [
      "2.981483814082384, 62.544453366984044\n",
      "2.3708018341801917, 46.276170966285896\n"
     ]
    },
    {
     "data": {
      "text/plain": [
       "integer5    828\n",
       "Name: row4, dtype: int32"
      ]
     },
     "execution_count": 88,
     "metadata": {},
     "output_type": "execute_result"
    }
   ],
   "source": [
    "import numpy as np\n",
    "import pandas as pd\n",
    "\n",
    "df = pd.read_csv(\"../../개인 필기/gapminder.tsv\", sep=\"\\t\")\n",
    "\n",
    "# 1. 기대수명 데이터셋으로 아래의 작업을 수행하시오.\n",
    "\n",
    "# 1) iloc 속성으로 행 데이터 추출하기\n",
    "df.iloc[:]\n",
    "\n",
    "# 2) loc 속성으로 행 단위 데이터 추출하기\n",
    "df.loc[:]\n",
    "\n",
    "# 1) 열 단위로 데이터 추출하기\n",
    "df[['country']]\n",
    "df[['continent']]\n",
    "df[['year']]\n",
    "df[['lifeExp']]\n",
    "df[['pop']]\n",
    "df[['gdpPercap']]\n",
    "\n",
    "# 4) 'year', 'pop' 데이터 추출하기\n",
    "df[['year', 'pop']]\n",
    "\n",
    "# 5) country continent  year 데이터 추출하기\n",
    "df[['country', 'continent', 'year']]\n",
    "\n",
    "# 6) country  year       pop 데이터 추출하기\n",
    "df[['country', 'year', 'pop']]\n",
    "\n",
    "# 7) loc, iloc 속성 자유자재로 사용하기\n",
    "\n",
    "df[(df.loc[:, 'year'] < 2000) & (df.continent == 'Europe')] # 2000년대 이전 유럽 지역 데이터\n",
    "df[(df.iloc[:, 2] < 2000) & (df.continent == 'Asia')] # 2000년대 이전 아시아 지역 데이터\n",
    "\n",
    "df[(df.loc[:, 'year'] >= 2000) & (df.continent == 'Europe')] # 2000년대 유럽 지역 데이터\n",
    "df[(df.iloc[:, 2] >= 2000) & (df.continent == 'Asia')] # 2000년대 아시아 지역 데이터\n",
    "\n",
    "\n",
    "# 2000년대 이전 유럽의 기대수명 최댓값, 최솟값\n",
    "modern_eu_life_max = df[(df.loc[:, 'year'] < 2000) & (df.continent == 'Europe')]['lifeExp'].max()\n",
    "modern_eu_life_min = df[(df.loc[:, 'year'] < 2000) & (df.continent == 'Europe')]['lifeExp'].min()\n",
    "\n",
    "# 2000년대 이전 아시아의 기대수명 최댓값, 최솟값\n",
    "modern_as_life_max = df[(df.loc[:, 'year'] < 2000) & (df.continent == 'Asia')]['lifeExp'].max()\n",
    "modern_as_life_min = df[(df.loc[:, 'year'] < 2000) & (df.continent == 'Asia')]['lifeExp'].min()\n",
    "\n",
    "# 2000년대 유럽의 기대수명 최댓값, 최솟값\n",
    "today_eu_life_max = df[(df.loc[:, 'year'] >= 2000) & (df.continent == 'Europe')]['lifeExp'].max()\n",
    "today_eu_life_min = df[(df.loc[:, 'year'] >= 2000) & (df.continent == 'Europe')]['lifeExp'].min()\n",
    "\n",
    "# 2000년대 아시아의 기대수명 최댓값, 최솟값\n",
    "today_as_life_max = df[(df.loc[:, 'year'] >= 2000) & (df.continent == 'Asia')]['lifeExp'].max()\n",
    "today_as_life_min = df[(df.loc[:, 'year'] >= 2000) & (df.continent == 'Asia')]['lifeExp'].min()\n",
    "\n",
    "# 유럽의 2000년대 이전 대비 2000년대 기대수명 증가율\n",
    "compare_max_eu = (today_eu_life_max - modern_eu_life_max) / modern_eu_life_max * 100 # 최댓값끼리 비교\n",
    "compare_min_eu = (today_eu_life_min - modern_eu_life_min) / modern_eu_life_min * 100 # 최솟값끼리 비교\n",
    "\n",
    "# 아시아의 2000년대 이전 대비 2000년대 기대수명 증가율\n",
    "compare_max_as = (today_as_life_max - modern_as_life_max) / modern_as_life_max * 100 # 최댓값끼리 비교\n",
    "compare_min_as = (today_as_life_min - modern_as_life_min) / modern_as_life_min * 100 # 최솟값끼리 비교\n",
    "\n",
    "print(f\"{compare_max_eu}, {compare_min_eu}\")\n",
    "print(f\"{compare_max_as}, {compare_min_as}\")\n",
    "\n",
    "\n",
    "# 2. 행과 열에 라벨을 가지는 5 x 5 이상의 크기를 가지는 데이터프레임을 만든다.\n",
    "# - 10가지 이상의 방법으로 특정한 행과 열을 선택한다.\n",
    "\n",
    "arr = np.random.randint(-1000, 1001, size=(5, 5)) # -1000 ~ 1000까지 랜덤 정수 5행 5열 2차원 배열\n",
    "df = pd.DataFrame(arr, index=['row1', 'row2', 'row3', 'row4', 'row5'],\n",
    "                  columns=['integer1', 'integer2', 'integer3', 'integer4', 'integer5'])\n",
    "\n",
    "# ex) 4행 5열의 값 찾는 방법 여러가지\n",
    "\n",
    "df.iloc[3, 4] # 3번째 행 인덱스에서 4번째 열 인덱스\n",
    "df.iloc[3, -1] # 3번째 행 인덱스에서 뒤에서 첫번째 열 인덱스\n",
    "df.iloc[-2, -1] # 뒤에서 두번째 행 인덱스에서 뒤에서 첫번째 열 인덱스\n",
    "df.loc['row4', 'integer5'] # 행 라벨 'row4'에서 열 라벨이 'integer5'인 것\n",
    "df.integer5['row4'] # 열 라벨이 'integer5'인 것 중에 행 라벨이 'row4'인 것\n",
    "df.integer5.loc['row4'] # \"\n",
    "df.integer5.iloc[3] # 열 라벨이 'integer5'인 것 중에 3번째 행 인덱스\n",
    "df.integer5.iloc[-2] # 열 라벨이 'integer5'인 것 중에 뒤에서 두번째 행 인덱스\n",
    "df.iloc[:, -1][df.index == 'row4'] # 모든 행에대한 뒤에서 첫번째 열 인덱스 중에 행 라벨이 'row4'인 것\n",
    "df.iloc[:, -1].iloc[3] # 모든 행에대한 뒤에서 첫번째 열 인덱스 중에 3번째 행 인덱스\n",
    "df.iloc[:, -1].iloc[-2] # 모든 행에대한 뒤에서 첫번째 열 인덱스 중에 뒤에서 두번째 행 인덱스\n",
    "df.iloc[3, ][df.columns == 'integer5'] # 3번째 행에대한 모든 열에 대해서 열 라벨이 'integer5'인 것\n",
    "df.iloc[-2, ][df.columns == 'integer5'] # 뒤에서 두번째 행에대한 모든 열에대해서 열 라벨이 'integer5'인 것"
   ]
  },
  {
   "cell_type": "code",
   "execution_count": null,
   "metadata": {},
   "outputs": [],
   "source": []
  }
 ],
 "metadata": {
  "kernelspec": {
   "display_name": "Python 3",
   "language": "python",
   "name": "python3"
  },
  "language_info": {
   "codemirror_mode": {
    "name": "ipython",
    "version": 3
   },
   "file_extension": ".py",
   "mimetype": "text/x-python",
   "name": "python",
   "nbconvert_exporter": "python",
   "pygments_lexer": "ipython3",
   "version": "3.12.2"
  }
 },
 "nbformat": 4,
 "nbformat_minor": 2
}
