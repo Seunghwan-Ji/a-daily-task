{
 "cells": [
  {
   "cell_type": "code",
   "execution_count": 38,
   "metadata": {},
   "outputs": [
    {
     "name": "stderr",
     "output_type": "stream",
     "text": [
      "C:\\Users\\Seunghwan\\AppData\\Local\\Temp\\ipykernel_23152\\2976271800.py:20: FutureWarning: Series.__getitem__ treating keys as positions is deprecated. In a future version, integer keys will always be treated as labels (consistent with DataFrame behavior). To access a value by position, use `ser.iloc[pos]`\n",
      "  descending_ser[descending_ser < 0.999][0] # 가장 큰 값\n",
      "C:\\Users\\Seunghwan\\AppData\\Local\\Temp\\ipykernel_23152\\2976271800.py:21: FutureWarning: Series.__getitem__ treating keys as positions is deprecated. In a future version, integer keys will always be treated as labels (consistent with DataFrame behavior). To access a value by position, use `ser.iloc[pos]`\n",
      "  ascending_ser[0] # 가장 작은 값\n"
     ]
    },
    {
     "data": {
      "text/plain": [
       "-0.3116308263092901"
      ]
     },
     "execution_count": 38,
     "metadata": {},
     "output_type": "execute_result"
    }
   ],
   "source": [
    "import pandas as pd\n",
    "import numpy as np\n",
    "\n",
    "\n",
    "df = pd.read_csv('wdbc.data', header=None)\n",
    "\n",
    "df = df.iloc[:, 2:12]\n",
    "\n",
    "df.columns = [\n",
    "    'radius', 'texture', 'perimeter', 'area', 'smoothness', \n",
    "    'compactness', 'concavity', 'concave points', 'symmetry', 'fractal dimension'\n",
    "]\n",
    "\n",
    "corr_arr = np.corrcoef(df, rowvar=False) # 상관계수 배열\n",
    "corr_df = pd.DataFrame(corr_arr, index=df.columns, columns=df.columns) # 상관계수 프레임\n",
    "\n",
    "descending_ser = corr_df.unstack().sort_values(ascending=False) # 내림차순\n",
    "ascending_ser = corr_df.unstack().sort_values() # 오름차순\n",
    "\n",
    "descending_ser[descending_ser < 0.999][0] # 1 미만 가장 큰 값\n",
    "ascending_ser[0] # 가장 작은 값"
   ]
  },
  {
   "cell_type": "code",
   "execution_count": null,
   "metadata": {},
   "outputs": [],
   "source": []
  }
 ],
 "metadata": {
  "kernelspec": {
   "display_name": "Python 3",
   "language": "python",
   "name": "python3"
  },
  "language_info": {
   "codemirror_mode": {
    "name": "ipython",
    "version": 3
   },
   "file_extension": ".py",
   "mimetype": "text/x-python",
   "name": "python",
   "nbconvert_exporter": "python",
   "pygments_lexer": "ipython3",
   "version": "3.12.2"
  }
 },
 "nbformat": 4,
 "nbformat_minor": 2
}
