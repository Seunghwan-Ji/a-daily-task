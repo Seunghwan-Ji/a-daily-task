{
 "cells": [
  {
   "cell_type": "code",
   "execution_count": null,
   "metadata": {},
   "outputs": [],
   "source": [
    "nums = input()\n",
    "nums = list(map(int, nums))\n",
    "nums.sort()\n",
    "check = 0\n",
    "for i in nums:\n",
    "    if(i+1 in nums and i+2 in nums):\n",
    "        nums.remove(i)\n",
    "        nums.remove(i+1)\n",
    "        nums.remove(i+2)\n",
    "        check += 1\n",
    "        break\n",
    "    elif(nums.count(i) >= 3):\n",
    "        nums.remove(i)\n",
    "        nums.remove(i)\n",
    "        nums.remove(i)\n",
    "        check += 1\n",
    "        break\n",
    "if(nums[0] == nums[1] == nums[2]):\n",
    "    check += 1\n",
    "elif(nums[0]+2 == nums[1]+1 == nums[2]):\n",
    "    check += 1\n",
    "if(check == 2):\n",
    "    print('Baby-gin')\n",
    "else:\n",
    "    print('baby-gin이 아님')"
   ]
  },
  {
   "cell_type": "code",
   "execution_count": 62,
   "metadata": {},
   "outputs": [
    {
     "name": "stdout",
     "output_type": "stream",
     "text": [
      "[7, 55, 12, 42, 78]\n",
      "[7, 12, 42, 55, 78]\n",
      "[7, 12, 42, 55, 78]\n",
      "[7, 12, 42, 55, 78]\n",
      "[7, 12, 42, 55, 78]\n"
     ]
    }
   ],
   "source": [
    "lst = [55, 7, 78, 12, 42]\n",
    "\n",
    "for j in range(len(lst)):\n",
    "    for i in range(len(lst)-1):\n",
    "        if lst[i+1] < lst[i]:\n",
    "            v = lst[i]\n",
    "            lst[i], lst[i+1] = lst[i+1], v\n",
    "    print(lst)"
   ]
  },
  {
   "cell_type": "code",
   "execution_count": 63,
   "metadata": {},
   "outputs": [
    {
     "name": "stdout",
     "output_type": "stream",
     "text": [
      "[7, 55, 12, 42, 78]\n",
      "[7, 12, 42, 55, 78]\n",
      "[7, 12, 42, 55, 78]\n",
      "[7, 12, 42, 55, 78]\n"
     ]
    }
   ],
   "source": [
    "a = [55, 7, 78, 12, 42]\n",
    "for i in range(len(a)-1, 0, -1):\n",
    "    for j in range(i):\n",
    "        if a[j] > a[j+1]:\n",
    "            temp = a[j]\n",
    "            a[j], a[j+1] = a[j+1], temp\n",
    "    print(a)"
   ]
  },
  {
   "cell_type": "code",
   "execution_count": 65,
   "metadata": {},
   "outputs": [
    {
     "name": "stdout",
     "output_type": "stream",
     "text": [
      "[7, 55, 12, 42, 78]\n",
      "[7, 12, 42, 55, 78]\n",
      "[7, 12, 42, 55, 78]\n",
      "[7, 12, 42, 55, 78]\n"
     ]
    }
   ],
   "source": [
    "nums = [55,7,78,12,42]\n",
    "round_s=len(nums)-2#3\n",
    "for r in range(round_s, -1, -1):\n",
    "    for j in range(r+1): #j=0 to 3\n",
    "        if(nums[j] > nums[j+1]):\n",
    "            nums[j], nums[j+1] = nums[j+1], nums[j]\n",
    "    print(nums)"
   ]
  },
  {
   "cell_type": "code",
   "execution_count": 88,
   "metadata": {},
   "outputs": [
    {
     "name": "stdout",
     "output_type": "stream",
     "text": [
      "[0, 1, 1, 1, 2, 3, 4, 4]\n"
     ]
    }
   ],
   "source": [
    "lst = [0, 4, 1, 3, 1, 2, 4, 1]\n",
    "lst2 = []\n",
    "res = []\n",
    "\n",
    "for i in lst:\n",
    "    if i not in lst2:\n",
    "        lst2.append(i)\n",
    "\n",
    "for i in range(len(lst2)):\n",
    "    i_count = lst.count(i)\n",
    "    res += [i]*i_count\n",
    "\n",
    "print(res)"
   ]
  },
  {
   "cell_type": "code",
   "execution_count": null,
   "metadata": {},
   "outputs": [],
   "source": [
    "nums = [0,4,1,3,1,2,4,1]\n",
    "high = max(nums)\n",
    "low = min(nums)\n",
    "res = []\n",
    "for i in range(low,high+1):\n",
    "    res += [i] * nums.count(i)\n",
    "print(res)"
   ]
  },
  {
   "cell_type": "code",
   "execution_count": 87,
   "metadata": {},
   "outputs": [
    {
     "data": {
      "text/plain": [
       "[1, 1, 1, 1, 1, 1, 1, 1, 1, 1]"
      ]
     },
     "execution_count": 87,
     "metadata": {},
     "output_type": "execute_result"
    }
   ],
   "source": [
    "[1]*10"
   ]
  },
  {
   "cell_type": "code",
   "execution_count": null,
   "metadata": {},
   "outputs": [],
   "source": [
    "import random as rd\n",
    "\n",
    "board = [[rd.randint(1, 10) for _ in range(5)] for _ in range(5)]\n",
    "res = []\n",
    "\n",
    "for i in range(5):\n",
    "    for j in range(5):\n",
    "        east, west, south, north = 0, 0, 0, 0\n",
    "        current_location_value = board[i][j]\n",
    "        if j+1 <= 4:\n",
    "            east = abs(current_location_value - board[i][j+1])\n",
    "        if j-1 >= 0:\n",
    "            west = abs(current_location_value - board[i][j-1])\n",
    "        if i+1 <= 4:\n",
    "            south = abs(current_location_value - board[i+1][j])\n",
    "        if i-1 >= 0:\n",
    "            north = abs(current_location_value - board[i-1][j])\n",
    "        res.append(east+west+south+north)\n",
    "\n",
    "print(res)"
   ]
  }
 ],
 "metadata": {
  "kernelspec": {
   "display_name": "Python 3",
   "language": "python",
   "name": "python3"
  },
  "language_info": {
   "codemirror_mode": {
    "name": "ipython",
    "version": 3
   },
   "file_extension": ".py",
   "mimetype": "text/x-python",
   "name": "python",
   "nbconvert_exporter": "python",
   "pygments_lexer": "ipython3",
   "version": "3.12.2"
  }
 },
 "nbformat": 4,
 "nbformat_minor": 2
}
